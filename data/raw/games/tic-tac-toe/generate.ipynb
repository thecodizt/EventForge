{
 "cells": [
  {
   "cell_type": "code",
   "execution_count": 1,
   "metadata": {},
   "outputs": [
    {
     "name": "stdout",
     "output_type": "stream",
     "text": [
      "Generated logs for 1000 Tic Tac Toe games. Saved to ../../../processed/games/tic-tac-toe/1k_single_agent.csv\n",
      "Generated logs for 10000 Tic Tac Toe games. Saved to ../../../processed/games/tic-tac-toe/10k_single_agent.csv\n"
     ]
    }
   ],
   "source": [
    "import csv\n",
    "import random\n",
    "\n",
    "def is_winner(board, player):\n",
    "    # Check rows, columns, and diagonals\n",
    "    for i in range(3):\n",
    "        if all(board[i][j] == player for j in range(3)) or \\\n",
    "           all(board[j][i] == player for j in range(3)):\n",
    "            return True\n",
    "    if all(board[i][i] == player for i in range(3)) or \\\n",
    "       all(board[i][2-i] == player for i in range(3)):\n",
    "        return True\n",
    "    return False\n",
    "\n",
    "def get_empty_cells(board):\n",
    "    return [(i, j) for i in range(3) for j in range(3) if board[i][j] == ' ']\n",
    "\n",
    "def generate_tictactoe_logs(num_games, output_file):\n",
    "    with open(output_file, 'w', newline='') as csvfile:\n",
    "        fieldnames = ['event_type', 'agent_id', 'context']\n",
    "        writer = csv.DictWriter(csvfile, fieldnames=fieldnames)\n",
    "        writer.writeheader()\n",
    "\n",
    "        for _ in range(num_games):\n",
    "            board = [[' ' for _ in range(3)] for _ in range(3)]\n",
    "            \n",
    "            # Game Start\n",
    "            writer.writerow({\n",
    "                'event_type': 'GAME_START',\n",
    "                'agent_id': 'system',\n",
    "                'context': ''\n",
    "            })\n",
    "\n",
    "            current_player = 'X'\n",
    "            game_result = None\n",
    "\n",
    "            while True:\n",
    "                empty_cells = get_empty_cells(board)\n",
    "                if not empty_cells:\n",
    "                    game_result = 'draw'\n",
    "                    break\n",
    "\n",
    "                move = random.choice(empty_cells)\n",
    "                board[move[0]][move[1]] = current_player\n",
    "\n",
    "                writer.writerow({\n",
    "                    'event_type': 'MOVE',\n",
    "                    'agent_id': current_player,\n",
    "                    'context': f\"{move[0]},{move[1]}\"\n",
    "                })\n",
    "\n",
    "                if is_winner(board, current_player):\n",
    "                    game_result = current_player\n",
    "                    break\n",
    "\n",
    "                current_player = 'O' if current_player == 'X' else 'X'\n",
    "\n",
    "            # Game End\n",
    "            writer.writerow({\n",
    "                'event_type': 'GAME_END',\n",
    "                'agent_id': 'system',\n",
    "                'context': game_result\n",
    "            })\n",
    "\n",
    "    print(f\"Generated logs for {num_games} Tic Tac Toe games. Saved to {output_file}\")\n",
    "\n",
    "# Generate 1000 games\n",
    "generate_tictactoe_logs(num_games=1000, output_file='../../../processed/games/tic-tac-toe/1k_single_agent.csv')\n",
    "\n",
    "# Generate 10000 games\n",
    "generate_tictactoe_logs(num_games=10000, output_file='../../../processed/games/tic-tac-toe/10k_single_agent.csv')"
   ]
  },
  {
   "cell_type": "code",
   "execution_count": 2,
   "metadata": {},
   "outputs": [
    {
     "name": "stdout",
     "output_type": "stream",
     "text": [
      "Generated logs for 50000 Tic Tac Toe games. Saved to ../../../processed/games/tic-tac-toe/50k_single_agent.csv\n"
     ]
    }
   ],
   "source": [
    "generate_tictactoe_logs(num_games=1000*50, output_file='../../../processed/games/tic-tac-toe/50k_single_agent.csv')"
   ]
  },
  {
   "cell_type": "code",
   "execution_count": 3,
   "metadata": {},
   "outputs": [
    {
     "name": "stdout",
     "output_type": "stream",
     "text": [
      "Generated logs for 50000 Tic Tac Toe games. Saved to ../../../processed/games/tic-tac-toe/50k_single_agent.csv\n"
     ]
    }
   ],
   "source": [
    "generate_tictactoe_logs(num_games=1000*50, output_file='../../../processed/games/tic-tac-toe/50k_single_agent.csv')"
   ]
  },
  {
   "cell_type": "code",
   "execution_count": null,
   "metadata": {},
   "outputs": [],
   "source": []
  }
 ],
 "metadata": {
  "kernelspec": {
   "display_name": "venv",
   "language": "python",
   "name": "python3"
  },
  "language_info": {
   "codemirror_mode": {
    "name": "ipython",
    "version": 3
   },
   "file_extension": ".py",
   "mimetype": "text/x-python",
   "name": "python",
   "nbconvert_exporter": "python",
   "pygments_lexer": "ipython3",
   "version": "3.11.5"
  }
 },
 "nbformat": 4,
 "nbformat_minor": 2
}
