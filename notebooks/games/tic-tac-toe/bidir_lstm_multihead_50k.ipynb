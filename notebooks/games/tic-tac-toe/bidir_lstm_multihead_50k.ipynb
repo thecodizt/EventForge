{
 "cells": [
  {
   "cell_type": "code",
   "execution_count": 1,
   "metadata": {},
   "outputs": [],
   "source": [
    "import sys\n",
    "import yaml\n",
    "from sklearn.model_selection import train_test_split\n",
    "\n",
    "sys.path.append('../../../')"
   ]
  },
  {
   "cell_type": "code",
   "execution_count": 2,
   "metadata": {},
   "outputs": [
    {
     "name": "stdout",
     "output_type": "stream",
     "text": [
      "No GPU available. Running on CPU.\n"
     ]
    }
   ],
   "source": [
    "from scripts.utils import load_data, preprocess_data_label_encoder, create_sequences, train_and_test, simulate_predictions"
   ]
  },
  {
   "cell_type": "code",
   "execution_count": 3,
   "metadata": {},
   "outputs": [],
   "source": [
    "from src.models.bidir_lstm_multihead import build_model"
   ]
  },
  {
   "cell_type": "code",
   "execution_count": 4,
   "metadata": {},
   "outputs": [],
   "source": [
    "YAML_FILE = '../../../configs/games/tic-tac-toe/bidir_lstm_multihead_50k.yml'"
   ]
  },
  {
   "cell_type": "code",
   "execution_count": 5,
   "metadata": {},
   "outputs": [
    {
     "name": "stdout",
     "output_type": "stream",
     "text": [
      "{'name': '/games/tic-tac-toe/bidir_lstm_multihead_50k', 'model': {'type': 'Bidirectional Multihead LSTM'}, 'training': {'batch_size': 64, 'num_epochs': 10}, 'data': {'game': 'tic-tac-toe', 'sequence_length': 20, 'max_event_length': 50, 'path': '/games/tic-tac-toe/50k_single_agent.csv'}}\n"
     ]
    }
   ],
   "source": [
    "with open(YAML_FILE, 'r') as f:\n",
    "    config = yaml.safe_load(f)\n",
    "print(config)"
   ]
  },
  {
   "cell_type": "code",
   "execution_count": 6,
   "metadata": {},
   "outputs": [],
   "source": [
    "# Load and preprocess data\n",
    "df = load_data(f'../../../data/processed/{config['data']['path']}')\n",
    "df, e_event, e_agent, e_context = preprocess_data_label_encoder(df)\n",
    "\n",
    "# Create sequences\n",
    "sequence_length = config['data']['sequence_length']\n",
    "X, y = create_sequences(df, sequence_length)\n",
    "\n",
    "# Split data\n",
    "X_train, X_test, y_train, y_test = train_test_split(X, y, test_size=0.2, random_state=42)"
   ]
  },
  {
   "cell_type": "code",
   "execution_count": 7,
   "metadata": {},
   "outputs": [
    {
     "name": "stdout",
     "output_type": "stream",
     "text": [
      "Epoch 1/10\n",
      "\u001b[1m6017/6017\u001b[0m \u001b[32m━━━━━━━━━━━━━━━━━━━━\u001b[0m\u001b[37m\u001b[0m \u001b[1m80s\u001b[0m 13ms/step - agent_id_accuracy: 0.8110 - context_accuracy: 0.2399 - event_type_accuracy: 0.9126 - loss: 2.5986 - val_agent_id_accuracy: 0.9325 - val_context_accuracy: 0.2784 - val_event_type_accuracy: 0.9325 - val_loss: 2.1522\n",
      "Epoch 2/10\n",
      "\u001b[1m6017/6017\u001b[0m \u001b[32m━━━━━━━━━━━━━━━━━━━━\u001b[0m\u001b[37m\u001b[0m \u001b[1m78s\u001b[0m 13ms/step - agent_id_accuracy: 0.9316 - context_accuracy: 0.2845 - event_type_accuracy: 0.9321 - loss: 2.1322 - val_agent_id_accuracy: 0.9325 - val_context_accuracy: 0.3141 - val_event_type_accuracy: 0.9325 - val_loss: 2.0287\n",
      "Epoch 3/10\n",
      "\u001b[1m6017/6017\u001b[0m \u001b[32m━━━━━━━━━━━━━━━━━━━━\u001b[0m\u001b[37m\u001b[0m \u001b[1m80s\u001b[0m 13ms/step - agent_id_accuracy: 0.9341 - context_accuracy: 0.3087 - event_type_accuracy: 0.9345 - loss: 2.0232 - val_agent_id_accuracy: 0.9407 - val_context_accuracy: 0.3204 - val_event_type_accuracy: 0.9409 - val_loss: 1.9205\n",
      "Epoch 4/10\n",
      "\u001b[1m6017/6017\u001b[0m \u001b[32m━━━━━━━━━━━━━━━━━━━━\u001b[0m\u001b[37m\u001b[0m \u001b[1m78s\u001b[0m 13ms/step - agent_id_accuracy: 0.9422 - context_accuracy: 0.3237 - event_type_accuracy: 0.9422 - loss: 1.9021 - val_agent_id_accuracy: 0.9445 - val_context_accuracy: 0.3338 - val_event_type_accuracy: 0.9442 - val_loss: 1.8281\n",
      "Epoch 5/10\n",
      "\u001b[1m6017/6017\u001b[0m \u001b[32m━━━━━━━━━━━━━━━━━━━━\u001b[0m\u001b[37m\u001b[0m \u001b[1m79s\u001b[0m 13ms/step - agent_id_accuracy: 0.9458 - context_accuracy: 0.3347 - event_type_accuracy: 0.9458 - loss: 1.8170 - val_agent_id_accuracy: 0.9454 - val_context_accuracy: 0.3397 - val_event_type_accuracy: 0.9459 - val_loss: 1.7547\n",
      "Epoch 6/10\n",
      "\u001b[1m6017/6017\u001b[0m \u001b[32m━━━━━━━━━━━━━━━━━━━━\u001b[0m\u001b[37m\u001b[0m \u001b[1m90s\u001b[0m 15ms/step - agent_id_accuracy: 0.9480 - context_accuracy: 0.3429 - event_type_accuracy: 0.9477 - loss: 1.7519 - val_agent_id_accuracy: 0.9525 - val_context_accuracy: 0.3483 - val_event_type_accuracy: 0.9524 - val_loss: 1.7052\n",
      "Epoch 7/10\n",
      "\u001b[1m6017/6017\u001b[0m \u001b[32m━━━━━━━━━━━━━━━━━━━━\u001b[0m\u001b[37m\u001b[0m \u001b[1m95s\u001b[0m 16ms/step - agent_id_accuracy: 0.9533 - context_accuracy: 0.3499 - event_type_accuracy: 0.9538 - loss: 1.6967 - val_agent_id_accuracy: 0.9562 - val_context_accuracy: 0.3559 - val_event_type_accuracy: 0.9563 - val_loss: 1.6431\n",
      "Epoch 8/10\n",
      "\u001b[1m6017/6017\u001b[0m \u001b[32m━━━━━━━━━━━━━━━━━━━━\u001b[0m\u001b[37m\u001b[0m \u001b[1m84s\u001b[0m 14ms/step - agent_id_accuracy: 0.9575 - context_accuracy: 0.3546 - event_type_accuracy: 0.9576 - loss: 1.6432 - val_agent_id_accuracy: 0.9616 - val_context_accuracy: 0.3609 - val_event_type_accuracy: 0.9615 - val_loss: 1.5925\n",
      "Epoch 9/10\n",
      "\u001b[1m6017/6017\u001b[0m \u001b[32m━━━━━━━━━━━━━━━━━━━━\u001b[0m\u001b[37m\u001b[0m \u001b[1m77s\u001b[0m 13ms/step - agent_id_accuracy: 0.9623 - context_accuracy: 0.3637 - event_type_accuracy: 0.9621 - loss: 1.5876 - val_agent_id_accuracy: 0.9676 - val_context_accuracy: 0.3667 - val_event_type_accuracy: 0.9679 - val_loss: 1.5467\n",
      "Epoch 10/10\n",
      "\u001b[1m6017/6017\u001b[0m \u001b[32m━━━━━━━━━━━━━━━━━━━━\u001b[0m\u001b[37m\u001b[0m \u001b[1m79s\u001b[0m 13ms/step - agent_id_accuracy: 0.9681 - context_accuracy: 0.3697 - event_type_accuracy: 0.9685 - loss: 1.5410 - val_agent_id_accuracy: 0.9722 - val_context_accuracy: 0.3738 - val_event_type_accuracy: 0.9724 - val_loss: 1.5035\n",
      "\u001b[1m3009/3009\u001b[0m \u001b[32m━━━━━━━━━━━━━━━━━━━━\u001b[0m\u001b[37m\u001b[0m \u001b[1m10s\u001b[0m 3ms/step - agent_id_accuracy: 0.9719 - context_accuracy: 0.3724 - event_type_accuracy: 0.9720 - loss: 1.5022\n"
     ]
    },
    {
     "name": "stderr",
     "output_type": "stream",
     "text": [
      "WARNING:absl:You are saving your model as an HDF5 file via `model.save()` or `keras.saving.save_model(model)`. This file format is considered legacy. We recommend using instead the native Keras format, e.g. `model.save('my_model.keras')` or `keras.saving.save_model(model, 'my_model.keras')`. \n"
     ]
    },
    {
     "name": "stdout",
     "output_type": "stream",
     "text": [
      "Test Results:\n",
      "loss: 1.5035\n",
      "compile_metrics: 0.9722\n"
     ]
    }
   ],
   "source": [
    "model = train_and_test(\n",
    "    X_train, \n",
    "    X_test, \n",
    "    y_train, \n",
    "    y_test, \n",
    "    e_event, \n",
    "    e_agent, \n",
    "    e_context, \n",
    "    name=config['name'], \n",
    "    epochs=config['training']['num_epochs'], \n",
    "    batch_size=config['training']['batch_size'],\n",
    "    build_model=build_model\n",
    ")"
   ]
  },
  {
   "cell_type": "code",
   "execution_count": 8,
   "metadata": {},
   "outputs": [
    {
     "name": "stdout",
     "output_type": "stream",
     "text": [
      "\u001b[1m1/1\u001b[0m \u001b[32m━━━━━━━━━━━━━━━━━━━━\u001b[0m\u001b[37m\u001b[0m \u001b[1m0s\u001b[0m 344ms/step\n",
      "\u001b[1m1/1\u001b[0m \u001b[32m━━━━━━━━━━━━━━━━━━━━\u001b[0m\u001b[37m\u001b[0m \u001b[1m0s\u001b[0m 16ms/step\n",
      "\u001b[1m1/1\u001b[0m \u001b[32m━━━━━━━━━━━━━━━━━━━━\u001b[0m\u001b[37m\u001b[0m \u001b[1m0s\u001b[0m 16ms/step\n",
      "\u001b[1m1/1\u001b[0m \u001b[32m━━━━━━━━━━━━━━━━━━━━\u001b[0m\u001b[37m\u001b[0m \u001b[1m0s\u001b[0m 31ms/step\n",
      "\u001b[1m1/1\u001b[0m \u001b[32m━━━━━━━━━━━━━━━━━━━━\u001b[0m\u001b[37m\u001b[0m \u001b[1m0s\u001b[0m 16ms/step\n",
      "\u001b[1m1/1\u001b[0m \u001b[32m━━━━━━━━━━━━━━━━━━━━\u001b[0m\u001b[37m\u001b[0m \u001b[1m0s\u001b[0m 16ms/step\n",
      "\u001b[1m1/1\u001b[0m \u001b[32m━━━━━━━━━━━━━━━━━━━━\u001b[0m\u001b[37m\u001b[0m \u001b[1m0s\u001b[0m 31ms/step\n",
      "\u001b[1m1/1\u001b[0m \u001b[32m━━━━━━━━━━━━━━━━━━━━\u001b[0m\u001b[37m\u001b[0m \u001b[1m0s\u001b[0m 16ms/step\n",
      "\u001b[1m1/1\u001b[0m \u001b[32m━━━━━━━━━━━━━━━━━━━━\u001b[0m\u001b[37m\u001b[0m \u001b[1m0s\u001b[0m 16ms/step\n",
      "\u001b[1m1/1\u001b[0m \u001b[32m━━━━━━━━━━━━━━━━━━━━\u001b[0m\u001b[37m\u001b[0m \u001b[1m0s\u001b[0m 16ms/step\n",
      "\u001b[1m1/1\u001b[0m \u001b[32m━━━━━━━━━━━━━━━━━━━━\u001b[0m\u001b[37m\u001b[0m \u001b[1m0s\u001b[0m 31ms/step\n",
      "\u001b[1m1/1\u001b[0m \u001b[32m━━━━━━━━━━━━━━━━━━━━\u001b[0m\u001b[37m\u001b[0m \u001b[1m0s\u001b[0m 16ms/step\n",
      "\u001b[1m1/1\u001b[0m \u001b[32m━━━━━━━━━━━━━━━━━━━━\u001b[0m\u001b[37m\u001b[0m \u001b[1m0s\u001b[0m 16ms/step\n",
      "\u001b[1m1/1\u001b[0m \u001b[32m━━━━━━━━━━━━━━━━━━━━\u001b[0m\u001b[37m\u001b[0m \u001b[1m0s\u001b[0m 32ms/step\n",
      "\u001b[1m1/1\u001b[0m \u001b[32m━━━━━━━━━━━━━━━━━━━━\u001b[0m\u001b[37m\u001b[0m \u001b[1m0s\u001b[0m 16ms/step\n",
      "Initial sequence:\n",
      "MOVE, X, 1,2\n",
      "MOVE, O, 2,0\n",
      "MOVE, X, 2,2\n",
      "MOVE, O, 1,0\n",
      "GAME_END, system, O\n",
      "GAME_START, system, New Game\n",
      "MOVE, X, 2,2\n",
      "MOVE, O, 2,0\n",
      "MOVE, X, 0,2\n",
      "MOVE, O, 0,0\n",
      "MOVE, X, 1,2\n",
      "GAME_END, system, X\n",
      "GAME_START, system, New Game\n",
      "MOVE, X, 1,1\n",
      "MOVE, O, 0,1\n",
      "MOVE, X, 1,2\n",
      "MOVE, O, 2,1\n",
      "MOVE, X, 2,2\n",
      "MOVE, O, 0,2\n",
      "MOVE, X, 0,0\n",
      "\n",
      "Predicted moves:\n",
      "Move 1: GAME_END, system, X\n",
      "Move 2: GAME_START, system, New Game\n",
      "Move 3: MOVE, X, 0,1\n",
      "Move 4: MOVE, O, 1,2\n",
      "Move 5: MOVE, X, 1,0\n",
      "Move 6: MOVE, O, 0,0\n",
      "Move 7: MOVE, X, 2,1\n",
      "Move 8: MOVE, O, 2,2\n",
      "Move 9: MOVE, X, 0,2\n",
      "Move 10: MOVE, O, 1,1\n",
      "Move 11: MOVE, X, 2,0\n",
      "Move 12: GAME_END, system, X\n",
      "Move 13: GAME_START, system, New Game\n",
      "Move 14: MOVE, X, 1,2\n",
      "Move 15: MOVE, O, 2,1\n"
     ]
    }
   ],
   "source": [
    "simulate_predictions(\n",
    "    data=X,\n",
    "    model=model,\n",
    "    e_event=e_event,\n",
    "    e_agent=e_agent,\n",
    "    e_context=e_context,\n",
    "    n = 15,\n",
    "    k = config['data']['sequence_length']\n",
    ")"
   ]
  }
 ],
 "metadata": {
  "kernelspec": {
   "display_name": "venv",
   "language": "python",
   "name": "python3"
  },
  "language_info": {
   "codemirror_mode": {
    "name": "ipython",
    "version": 3
   },
   "file_extension": ".py",
   "mimetype": "text/x-python",
   "name": "python",
   "nbconvert_exporter": "python",
   "pygments_lexer": "ipython3",
   "version": "3.12.4"
  }
 },
 "nbformat": 4,
 "nbformat_minor": 2
}
