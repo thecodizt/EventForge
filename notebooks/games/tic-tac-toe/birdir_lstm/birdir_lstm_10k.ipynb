{
 "cells": [
  {
   "cell_type": "code",
   "execution_count": 2,
   "metadata": {},
   "outputs": [],
   "source": [
    "import sys\n",
    "import yaml\n",
    "from sklearn.model_selection import train_test_split\n",
    "\n",
    "sys.path.append('../../../../')"
   ]
  },
  {
   "cell_type": "code",
   "execution_count": 3,
   "metadata": {},
   "outputs": [
    {
     "name": "stdout",
     "output_type": "stream",
     "text": [
      "No GPU available. Running on CPU.\n"
     ]
    }
   ],
   "source": [
    "from scripts.utils import load_data, preprocess_data_label_encoder, create_sequences, train_and_test, simulate_predictions, simulate_predictions_from_pretrained"
   ]
  },
  {
   "cell_type": "code",
   "execution_count": 4,
   "metadata": {},
   "outputs": [],
   "source": [
    "from src.models.bidir_lstm_multihead import build_model"
   ]
  },
  {
   "cell_type": "code",
   "execution_count": 5,
   "metadata": {},
   "outputs": [],
   "source": [
    "YAML_FILE = '../../../../configs/games/tic-tac-toe/bidir_lstm/10k.yml'"
   ]
  },
  {
   "cell_type": "code",
   "execution_count": 6,
   "metadata": {},
   "outputs": [
    {
     "name": "stdout",
     "output_type": "stream",
     "text": [
      "{'name': '/games/tic-tac-toe/bidir_lstm/10k', 'model': {'type': 'Bidirectional Multihead LSTM', 'lstm_units': 128, 'num_lstm_layers': 2, 'attention': True}, 'training': {'batch_size': 64, 'learning_rate': 0.001, 'num_epochs': 5}, 'data': {'game': 'tic-tac-toe', 'sequence_length': 20, 'max_event_length': 50, 'path': '/games/tic-tac-toe/10k_single_agent.csv'}}\n"
     ]
    }
   ],
   "source": [
    "with open(YAML_FILE, 'r') as f:\n",
    "    config = yaml.safe_load(f)\n",
    "print(config)"
   ]
  },
  {
   "cell_type": "code",
   "execution_count": 7,
   "metadata": {},
   "outputs": [],
   "source": [
    "model_params = {\n",
    "    'lstm_units': config['model']['lstm_units'],\n",
    "    'num_lstm_layers': config['model']['num_lstm_layers'],\n",
    "    'attention': config['model']['attention']\n",
    "}"
   ]
  },
  {
   "cell_type": "code",
   "execution_count": 8,
   "metadata": {},
   "outputs": [],
   "source": [
    "# Load and preprocess data\n",
    "df = load_data(f'../../../../data/processed/{config['data']['path']}')\n",
    "df, e_event, e_agent, e_context = preprocess_data_label_encoder(df)\n",
    "\n",
    "# Create sequences\n",
    "sequence_length = config['data']['sequence_length']\n",
    "X, y = create_sequences(df, sequence_length)\n",
    "\n",
    "# Split data\n",
    "X_train, X_test, y_train, y_test = train_test_split(X, y, test_size=0.2, random_state=42)"
   ]
  },
  {
   "cell_type": "code",
   "execution_count": 9,
   "metadata": {},
   "outputs": [
    {
     "name": "stdout",
     "output_type": "stream",
     "text": [
      "Epoch 1/5\n",
      "\u001b[1m1204/1204\u001b[0m \u001b[32m━━━━━━━━━━━━━━━━━━━━\u001b[0m\u001b[37m\u001b[0m \u001b[1m54s\u001b[0m 40ms/step - loss: 3.1492 - output_1_accuracy: 0.8718 - output_2_accuracy: 0.6790 - output_3_accuracy: 0.1954 - val_loss: 2.1965 - val_output_1_accuracy: 0.9312 - val_output_2_accuracy: 0.9312 - val_output_3_accuracy: 0.2740\n",
      "Epoch 2/5\n",
      "\u001b[1m1204/1204\u001b[0m \u001b[32m━━━━━━━━━━━━━━━━━━━━\u001b[0m\u001b[37m\u001b[0m \u001b[1m48s\u001b[0m 39ms/step - loss: 2.2145 - output_1_accuracy: 0.9294 - output_2_accuracy: 0.9297 - output_3_accuracy: 0.2720 - val_loss: 2.1956 - val_output_1_accuracy: 0.9131 - val_output_2_accuracy: 0.9230 - val_output_3_accuracy: 0.2678\n",
      "Epoch 3/5\n",
      "\u001b[1m1204/1204\u001b[0m \u001b[32m━━━━━━━━━━━━━━━━━━━━\u001b[0m\u001b[37m\u001b[0m \u001b[1m50s\u001b[0m 41ms/step - loss: 2.1825 - output_1_accuracy: 0.9309 - output_2_accuracy: 0.9316 - output_3_accuracy: 0.2743 - val_loss: 2.1371 - val_output_1_accuracy: 0.9312 - val_output_2_accuracy: 0.9310 - val_output_3_accuracy: 0.2851\n",
      "Epoch 4/5\n",
      "\u001b[1m1204/1204\u001b[0m \u001b[32m━━━━━━━━━━━━━━━━━━━━\u001b[0m\u001b[37m\u001b[0m \u001b[1m47s\u001b[0m 39ms/step - loss: 2.1269 - output_1_accuracy: 0.9326 - output_2_accuracy: 0.9328 - output_3_accuracy: 0.2842 - val_loss: 2.1526 - val_output_1_accuracy: 0.9256 - val_output_2_accuracy: 0.9268 - val_output_3_accuracy: 0.2820\n",
      "Epoch 5/5\n",
      "\u001b[1m1204/1204\u001b[0m \u001b[32m━━━━━━━━━━━━━━━━━━━━\u001b[0m\u001b[37m\u001b[0m \u001b[1m47s\u001b[0m 39ms/step - loss: 2.1123 - output_1_accuracy: 0.9308 - output_2_accuracy: 0.9304 - output_3_accuracy: 0.2910 - val_loss: 2.0587 - val_output_1_accuracy: 0.9315 - val_output_2_accuracy: 0.9315 - val_output_3_accuracy: 0.2999\n",
      "\u001b[1m602/602\u001b[0m \u001b[32m━━━━━━━━━━━━━━━━━━━━\u001b[0m\u001b[37m\u001b[0m \u001b[1m5s\u001b[0m 9ms/step - loss: 2.0606 - output_1_accuracy: 0.9324 - output_2_accuracy: 0.9322 - output_3_accuracy: 0.2956\n"
     ]
    },
    {
     "name": "stderr",
     "output_type": "stream",
     "text": [
      "WARNING:absl:You are saving your model as an HDF5 file via `model.save()` or `keras.saving.save_model(model)`. This file format is considered legacy. We recommend using instead the native Keras format, e.g. `model.save('my_model.keras')` or `keras.saving.save_model(model, 'my_model.keras')`. \n"
     ]
    },
    {
     "name": "stdout",
     "output_type": "stream",
     "text": [
      "Test Results:\n",
      "loss: 2.0587\n",
      "compile_metrics: 0.9315\n"
     ]
    }
   ],
   "source": [
    "model = train_and_test(\n",
    "    X_train, \n",
    "    X_test, \n",
    "    y_train, \n",
    "    y_test, \n",
    "    e_event, \n",
    "    e_agent, \n",
    "    e_context, \n",
    "    name=config['name'], \n",
    "    epochs=config['training']['num_epochs'], \n",
    "    batch_size=config['training']['batch_size'],\n",
    "    model_params=model_params,\n",
    "    build_model=build_model,\n",
    ")"
   ]
  },
  {
   "cell_type": "code",
   "execution_count": 10,
   "metadata": {},
   "outputs": [
    {
     "name": "stdout",
     "output_type": "stream",
     "text": [
      "\u001b[1m1/1\u001b[0m \u001b[32m━━━━━━━━━━━━━━━━━━━━\u001b[0m\u001b[37m\u001b[0m \u001b[1m1s\u001b[0m 524ms/step\n",
      "\u001b[1m1/1\u001b[0m \u001b[32m━━━━━━━━━━━━━━━━━━━━\u001b[0m\u001b[37m\u001b[0m \u001b[1m0s\u001b[0m 18ms/step\n",
      "\u001b[1m1/1\u001b[0m \u001b[32m━━━━━━━━━━━━━━━━━━━━\u001b[0m\u001b[37m\u001b[0m \u001b[1m0s\u001b[0m 24ms/step\n",
      "\u001b[1m1/1\u001b[0m \u001b[32m━━━━━━━━━━━━━━━━━━━━\u001b[0m\u001b[37m\u001b[0m \u001b[1m0s\u001b[0m 29ms/step\n",
      "\u001b[1m1/1\u001b[0m \u001b[32m━━━━━━━━━━━━━━━━━━━━\u001b[0m\u001b[37m\u001b[0m \u001b[1m0s\u001b[0m 36ms/step\n",
      "\u001b[1m1/1\u001b[0m \u001b[32m━━━━━━━━━━━━━━━━━━━━\u001b[0m\u001b[37m\u001b[0m \u001b[1m0s\u001b[0m 19ms/step\n",
      "\u001b[1m1/1\u001b[0m \u001b[32m━━━━━━━━━━━━━━━━━━━━\u001b[0m\u001b[37m\u001b[0m \u001b[1m0s\u001b[0m 17ms/step\n",
      "\u001b[1m1/1\u001b[0m \u001b[32m━━━━━━━━━━━━━━━━━━━━\u001b[0m\u001b[37m\u001b[0m \u001b[1m0s\u001b[0m 19ms/step\n",
      "\u001b[1m1/1\u001b[0m \u001b[32m━━━━━━━━━━━━━━━━━━━━\u001b[0m\u001b[37m\u001b[0m \u001b[1m0s\u001b[0m 20ms/step\n",
      "\u001b[1m1/1\u001b[0m \u001b[32m━━━━━━━━━━━━━━━━━━━━\u001b[0m\u001b[37m\u001b[0m \u001b[1m0s\u001b[0m 36ms/step\n",
      "\u001b[1m1/1\u001b[0m \u001b[32m━━━━━━━━━━━━━━━━━━━━\u001b[0m\u001b[37m\u001b[0m \u001b[1m0s\u001b[0m 19ms/step\n",
      "\u001b[1m1/1\u001b[0m \u001b[32m━━━━━━━━━━━━━━━━━━━━\u001b[0m\u001b[37m\u001b[0m \u001b[1m0s\u001b[0m 18ms/step\n",
      "\u001b[1m1/1\u001b[0m \u001b[32m━━━━━━━━━━━━━━━━━━━━\u001b[0m\u001b[37m\u001b[0m \u001b[1m0s\u001b[0m 18ms/step\n",
      "\u001b[1m1/1\u001b[0m \u001b[32m━━━━━━━━━━━━━━━━━━━━\u001b[0m\u001b[37m\u001b[0m \u001b[1m0s\u001b[0m 33ms/step\n",
      "\u001b[1m1/1\u001b[0m \u001b[32m━━━━━━━━━━━━━━━━━━━━\u001b[0m\u001b[37m\u001b[0m \u001b[1m0s\u001b[0m 36ms/step\n",
      "Initial sequence:\n",
      "MOVE, O, 2,2\n",
      "MOVE, X, 0,2\n",
      "MOVE, O, 1,1\n",
      "MOVE, X, 1,0\n",
      "MOVE, O, 0,0\n",
      "GAME_END, system, O\n",
      "GAME_START, system, New Game\n",
      "MOVE, X, 1,2\n",
      "MOVE, O, 1,1\n",
      "MOVE, X, 0,2\n",
      "MOVE, O, 0,0\n",
      "MOVE, X, 0,1\n",
      "MOVE, O, 1,0\n",
      "MOVE, X, 2,1\n",
      "MOVE, O, 2,0\n",
      "GAME_END, system, O\n",
      "GAME_START, system, New Game\n",
      "MOVE, X, 1,1\n",
      "MOVE, O, 0,1\n",
      "MOVE, X, 2,2\n",
      "\n",
      "Predicted moves:\n",
      "Move 1: MOVE, O, 0,0\n",
      "Move 2: MOVE, X, 1,0\n",
      "Move 3: MOVE, O, 2,0\n",
      "Move 4: MOVE, X, 0,2\n",
      "Move 5: MOVE, O, X\n",
      "Move 6: MOVE, X, O\n",
      "Move 7: GAME_END, system, X\n",
      "Move 8: GAME_START, system, New Game\n",
      "Move 9: MOVE, X, 0,2\n",
      "Move 10: MOVE, O, 0,0\n",
      "Move 11: MOVE, X, 2,0\n",
      "Move 12: MOVE, O, 1,0\n",
      "Move 13: MOVE, X, 2,2\n",
      "Move 14: MOVE, O, 2,0\n",
      "Move 15: MOVE, X, 0,1\n"
     ]
    }
   ],
   "source": [
    "simulate_predictions(\n",
    "    data=X,\n",
    "    model=model,\n",
    "    e_event=e_event,\n",
    "    e_agent=e_agent,\n",
    "    e_context=e_context,\n",
    "    n = 15,\n",
    "    k = config['data']['sequence_length']\n",
    ")"
   ]
  },
  {
   "cell_type": "code",
   "execution_count": 11,
   "metadata": {},
   "outputs": [
    {
     "name": "stderr",
     "output_type": "stream",
     "text": [
      "WARNING:absl:Compiled the loaded model, but the compiled metrics have yet to be built. `model.compile_metrics` will be empty until you train or evaluate the model.\n"
     ]
    },
    {
     "name": "stdout",
     "output_type": "stream",
     "text": [
      "\u001b[1m1/1\u001b[0m \u001b[32m━━━━━━━━━━━━━━━━━━━━\u001b[0m\u001b[37m\u001b[0m \u001b[1m1s\u001b[0m 647ms/step\n",
      "\u001b[1m1/1\u001b[0m \u001b[32m━━━━━━━━━━━━━━━━━━━━\u001b[0m\u001b[37m\u001b[0m \u001b[1m0s\u001b[0m 12ms/step\n",
      "\u001b[1m1/1\u001b[0m \u001b[32m━━━━━━━━━━━━━━━━━━━━\u001b[0m\u001b[37m\u001b[0m \u001b[1m0s\u001b[0m 17ms/step\n",
      "\u001b[1m1/1\u001b[0m \u001b[32m━━━━━━━━━━━━━━━━━━━━\u001b[0m\u001b[37m\u001b[0m \u001b[1m0s\u001b[0m 21ms/step\n",
      "\u001b[1m1/1\u001b[0m \u001b[32m━━━━━━━━━━━━━━━━━━━━\u001b[0m\u001b[37m\u001b[0m \u001b[1m0s\u001b[0m 33ms/step\n",
      "\u001b[1m1/1\u001b[0m \u001b[32m━━━━━━━━━━━━━━━━━━━━\u001b[0m\u001b[37m\u001b[0m \u001b[1m0s\u001b[0m 18ms/step\n",
      "\u001b[1m1/1\u001b[0m \u001b[32m━━━━━━━━━━━━━━━━━━━━\u001b[0m\u001b[37m\u001b[0m \u001b[1m0s\u001b[0m 33ms/step\n",
      "\u001b[1m1/1\u001b[0m \u001b[32m━━━━━━━━━━━━━━━━━━━━\u001b[0m\u001b[37m\u001b[0m \u001b[1m0s\u001b[0m 17ms/step\n",
      "\u001b[1m1/1\u001b[0m \u001b[32m━━━━━━━━━━━━━━━━━━━━\u001b[0m\u001b[37m\u001b[0m \u001b[1m0s\u001b[0m 17ms/step\n",
      "\u001b[1m1/1\u001b[0m \u001b[32m━━━━━━━━━━━━━━━━━━━━\u001b[0m\u001b[37m\u001b[0m \u001b[1m0s\u001b[0m 17ms/step\n",
      "\u001b[1m1/1\u001b[0m \u001b[32m━━━━━━━━━━━━━━━━━━━━\u001b[0m\u001b[37m\u001b[0m \u001b[1m0s\u001b[0m 17ms/step\n",
      "\u001b[1m1/1\u001b[0m \u001b[32m━━━━━━━━━━━━━━━━━━━━\u001b[0m\u001b[37m\u001b[0m \u001b[1m0s\u001b[0m 32ms/step\n",
      "\u001b[1m1/1\u001b[0m \u001b[32m━━━━━━━━━━━━━━━━━━━━\u001b[0m\u001b[37m\u001b[0m \u001b[1m0s\u001b[0m 34ms/step\n",
      "\u001b[1m1/1\u001b[0m \u001b[32m━━━━━━━━━━━━━━━━━━━━\u001b[0m\u001b[37m\u001b[0m \u001b[1m0s\u001b[0m 18ms/step\n",
      "\u001b[1m1/1\u001b[0m \u001b[32m━━━━━━━━━━━━━━━━━━━━\u001b[0m\u001b[37m\u001b[0m \u001b[1m0s\u001b[0m 22ms/step\n",
      "Initial sequence:\n",
      "MOVE, X, 0,0\n",
      "MOVE, O, 2,1\n",
      "MOVE, X, 0,1\n",
      "GAME_END, system, X\n",
      "GAME_START, system, New Game\n",
      "MOVE, X, 1,0\n",
      "MOVE, O, 1,1\n",
      "MOVE, X, 2,1\n",
      "MOVE, O, 1,2\n",
      "MOVE, X, 0,0\n",
      "MOVE, O, 0,1\n",
      "MOVE, X, 2,0\n",
      "GAME_END, system, X\n",
      "GAME_START, system, New Game\n",
      "MOVE, X, 0,1\n",
      "MOVE, O, 1,2\n",
      "MOVE, X, 0,2\n",
      "MOVE, O, 0,0\n",
      "MOVE, X, 1,1\n",
      "MOVE, O, 2,0\n",
      "\n",
      "Predicted moves:\n",
      "Move 1: MOVE, X, 2,0\n",
      "Move 2: MOVE, O, X\n",
      "Move 3: MOVE, X, 1,1\n",
      "Move 4: GAME_END, system, X\n",
      "Move 5: GAME_START, system, New Game\n",
      "Move 6: MOVE, X, 0,2\n",
      "Move 7: MOVE, O, 0,0\n",
      "Move 8: MOVE, X, 2,0\n",
      "Move 9: MOVE, O, 1,0\n",
      "Move 10: MOVE, X, 2,2\n",
      "Move 11: MOVE, O, 2,0\n",
      "Move 12: MOVE, X, 0,1\n",
      "Move 13: MOVE, O, X\n",
      "Move 14: MOVE, X, 0,2\n",
      "Move 15: GAME_END, system, X\n"
     ]
    }
   ],
   "source": [
    "simulate_predictions_from_pretrained(\n",
    "    data=X,\n",
    "    modelpath=f'../../../../models/{config['name']}.h5',\n",
    "    e_event=e_event,\n",
    "    e_agent=e_agent,\n",
    "    e_context=e_context,\n",
    "    n = 15,\n",
    "    k = config['data']['sequence_length']\n",
    ")"
   ]
  }
 ],
 "metadata": {
  "kernelspec": {
   "display_name": "venv",
   "language": "python",
   "name": "python3"
  },
  "language_info": {
   "codemirror_mode": {
    "name": "ipython",
    "version": 3
   },
   "file_extension": ".py",
   "mimetype": "text/x-python",
   "name": "python",
   "nbconvert_exporter": "python",
   "pygments_lexer": "ipython3",
   "version": "3.12.4"
  }
 },
 "nbformat": 4,
 "nbformat_minor": 2
}
