{
 "cells": [
  {
   "cell_type": "code",
   "execution_count": 1,
   "metadata": {},
   "outputs": [],
   "source": [
    "import sys\n",
    "import yaml\n",
    "from sklearn.model_selection import train_test_split\n",
    "\n",
    "sys.path.append('../../../../')"
   ]
  },
  {
   "cell_type": "code",
   "execution_count": 2,
   "metadata": {},
   "outputs": [
    {
     "name": "stdout",
     "output_type": "stream",
     "text": [
      "No GPU available. Running on CPU.\n"
     ]
    }
   ],
   "source": [
    "from scripts.utils import load_data, preprocess_data_label_encoder, create_sequences, train_and_test, simulate_predictions, simulate_predictions_from_pretrained"
   ]
  },
  {
   "cell_type": "code",
   "execution_count": 3,
   "metadata": {},
   "outputs": [],
   "source": [
    "from src.models.GAT_HRNN_Multihead import build_model"
   ]
  },
  {
   "cell_type": "code",
   "execution_count": 4,
   "metadata": {},
   "outputs": [],
   "source": [
    "YAML_FILE = '../../../../configs/games/tic-tac-toe/GAT_HRNN/1k.yml'"
   ]
  },
  {
   "cell_type": "code",
   "execution_count": 5,
   "metadata": {},
   "outputs": [
    {
     "name": "stdout",
     "output_type": "stream",
     "text": [
      "{'name': '/games/tic-tac-toe/integrated_gat_hrnn', 'model': {'type': 'Integrated GAT-HRNN with Dual Attention', 'gat_units': 32, 'lstm_units': 128, 'num_lstm_layers': 2, 'attention_heads': 4, 'integration_units': 256}, 'training': {'batch_size': 64, 'learning_rate': 0.001, 'num_epochs': 5, 'optimizer': 'adam', 'loss': 'categorical_crossentropy'}, 'data': {'game': 'tic-tac-toe', 'sequence_length': 20, 'max_event_length': 50, 'num_agents': 2, 'num_roles': 2, 'path': 'games/tic-tac-toe/1k_single_agent.csv'}, 'input': [{'name': 'agent_features', 'shape': [2, 20]}, {'name': 'adjacency_matrix', 'shape': [2, 2]}, {'name': 'role_masks', 'shape': [2, 2]}], 'output': [{'name': 'event_prediction', 'num_classes': 9}, {'name': 'agent_prediction', 'num_classes': 2}, {'name': 'context_prediction', 'num_classes': 20}], 'evaluation': {'metrics': ['accuracy', 'precision', 'recall', 'f1_score']}, 'visualization': {'attention_maps': True, 'learning_curves': True, 'confusion_matrix': True}}\n"
     ]
    }
   ],
   "source": [
    "with open(YAML_FILE, 'r') as f:\n",
    "    config = yaml.safe_load(f)\n",
    "print(config)"
   ]
  },
  {
   "cell_type": "code",
   "execution_count": 6,
   "metadata": {},
   "outputs": [],
   "source": [
    "model_params = {\n",
    "        'gat_units': config['model']['gat_units'],\n",
    "        'lstm_units': config['model']['lstm_units'],\n",
    "        'num_lstm_layers': config['model']['num_lstm_layers'],\n",
    "        'attention_heads': config['model']['attention_heads'],\n",
    "       'integration_units': config['model']['integration_units']\n",
    "    }"
   ]
  },
  {
   "cell_type": "code",
   "execution_count": 7,
   "metadata": {},
   "outputs": [],
   "source": [
    "# Load and preprocess data\n",
    "df = load_data(f\"../../../../data/processed/{config['data']['path']}\")\n",
    "df, e_event, e_agent, e_context = preprocess_data_label_encoder(df)\n",
    "\n",
    "# Create sequences\n",
    "sequence_length = config['data']['sequence_length']\n",
    "X, y = create_sequences(df, sequence_length)\n",
    "\n",
    "# Split data\n",
    "X_train, X_test, y_train, y_test = train_test_split(X, y, test_size=0.2, random_state=42)"
   ]
  },
  {
   "cell_type": "code",
   "execution_count": 8,
   "metadata": {},
   "outputs": [
    {
     "name": "stdout",
     "output_type": "stream",
     "text": [
      "WARNING:tensorflow:From c:\\Users\\vaibh\\AppData\\Local\\Programs\\Python\\Python311\\Lib\\site-packages\\keras\\src\\backend\\tensorflow\\core.py:187: The name tf.placeholder is deprecated. Please use tf.compat.v1.placeholder instead.\n",
      "\n",
      "Epoch 1/5\n"
     ]
    },
    {
     "ename": "ValueError",
     "evalue": "Exception encountered when calling TimeDistributed.call().\n\n\u001b[1mShape must be rank 2 but is rank 3 for '{{node functional_1_1/time_distributed_1/Tile}} = Tile[T=DT_FLOAT, Tmultiples=DT_INT32](functional_1_1/time_distributed_1/MatMul, functional_1_1/time_distributed_1/Tile/multiples)' with input shapes: [?,32], [3].\u001b[0m\n\nArguments received by TimeDistributed.call():\n  • inputs=tf.Tensor(shape=(None, 20, 1), dtype=float32)\n  • training=True\n  • mask=None",
     "output_type": "error",
     "traceback": [
      "\u001b[1;31m---------------------------------------------------------------------------\u001b[0m",
      "\u001b[1;31mValueError\u001b[0m                                Traceback (most recent call last)",
      "Cell \u001b[1;32mIn[8], line 1\u001b[0m\n\u001b[1;32m----> 1\u001b[0m model \u001b[38;5;241m=\u001b[39m \u001b[43mtrain_and_test\u001b[49m\u001b[43m(\u001b[49m\n\u001b[0;32m      2\u001b[0m \u001b[43m    \u001b[49m\u001b[43mX_train\u001b[49m\u001b[43m,\u001b[49m\u001b[43m \u001b[49m\n\u001b[0;32m      3\u001b[0m \u001b[43m    \u001b[49m\u001b[43mX_test\u001b[49m\u001b[43m,\u001b[49m\u001b[43m \u001b[49m\n\u001b[0;32m      4\u001b[0m \u001b[43m    \u001b[49m\u001b[43my_train\u001b[49m\u001b[43m,\u001b[49m\u001b[43m \u001b[49m\n\u001b[0;32m      5\u001b[0m \u001b[43m    \u001b[49m\u001b[43my_test\u001b[49m\u001b[43m,\u001b[49m\u001b[43m \u001b[49m\n\u001b[0;32m      6\u001b[0m \u001b[43m    \u001b[49m\u001b[43me_event\u001b[49m\u001b[43m,\u001b[49m\u001b[43m \u001b[49m\n\u001b[0;32m      7\u001b[0m \u001b[43m    \u001b[49m\u001b[43me_agent\u001b[49m\u001b[43m,\u001b[49m\u001b[43m \u001b[49m\n\u001b[0;32m      8\u001b[0m \u001b[43m    \u001b[49m\u001b[43me_context\u001b[49m\u001b[43m,\u001b[49m\u001b[43m \u001b[49m\n\u001b[0;32m      9\u001b[0m \u001b[43m    \u001b[49m\u001b[43mname\u001b[49m\u001b[38;5;241;43m=\u001b[39;49m\u001b[43mconfig\u001b[49m\u001b[43m[\u001b[49m\u001b[38;5;124;43m'\u001b[39;49m\u001b[38;5;124;43mname\u001b[39;49m\u001b[38;5;124;43m'\u001b[39;49m\u001b[43m]\u001b[49m\u001b[43m,\u001b[49m\u001b[43m \u001b[49m\n\u001b[0;32m     10\u001b[0m \u001b[43m    \u001b[49m\u001b[43mepochs\u001b[49m\u001b[38;5;241;43m=\u001b[39;49m\u001b[43mconfig\u001b[49m\u001b[43m[\u001b[49m\u001b[38;5;124;43m'\u001b[39;49m\u001b[38;5;124;43mtraining\u001b[39;49m\u001b[38;5;124;43m'\u001b[39;49m\u001b[43m]\u001b[49m\u001b[43m[\u001b[49m\u001b[38;5;124;43m'\u001b[39;49m\u001b[38;5;124;43mnum_epochs\u001b[39;49m\u001b[38;5;124;43m'\u001b[39;49m\u001b[43m]\u001b[49m\u001b[43m,\u001b[49m\u001b[43m \u001b[49m\n\u001b[0;32m     11\u001b[0m \u001b[43m    \u001b[49m\u001b[43mbatch_size\u001b[49m\u001b[38;5;241;43m=\u001b[39;49m\u001b[43mconfig\u001b[49m\u001b[43m[\u001b[49m\u001b[38;5;124;43m'\u001b[39;49m\u001b[38;5;124;43mtraining\u001b[39;49m\u001b[38;5;124;43m'\u001b[39;49m\u001b[43m]\u001b[49m\u001b[43m[\u001b[49m\u001b[38;5;124;43m'\u001b[39;49m\u001b[38;5;124;43mbatch_size\u001b[39;49m\u001b[38;5;124;43m'\u001b[39;49m\u001b[43m]\u001b[49m\u001b[43m,\u001b[49m\n\u001b[0;32m     12\u001b[0m \u001b[43m    \u001b[49m\u001b[43mmodel_params\u001b[49m\u001b[38;5;241;43m=\u001b[39;49m\u001b[43mmodel_params\u001b[49m\u001b[43m,\u001b[49m\n\u001b[0;32m     13\u001b[0m \u001b[43m    \u001b[49m\u001b[43mbuild_model\u001b[49m\u001b[38;5;241;43m=\u001b[39;49m\u001b[43mbuild_model\u001b[49m\n\u001b[0;32m     14\u001b[0m \u001b[43m)\u001b[49m\n",
      "File \u001b[1;32md:\\Research\\EventForge\\notebooks\\games\\tic-tac-toe\\GAT\\../../../..\\scripts\\utils.py:126\u001b[0m, in \u001b[0;36mtrain_and_test\u001b[1;34m(X_train, X_test, y_train, y_test, e_event, e_agent, e_context, build_model, name, epochs, batch_size, model_params)\u001b[0m\n\u001b[0;32m    122\u001b[0m \u001b[38;5;66;03m# Build and train model\u001b[39;00m\n\u001b[0;32m    123\u001b[0m model \u001b[38;5;241m=\u001b[39m build_model(X_train_event\u001b[38;5;241m.\u001b[39mshape[\u001b[38;5;241m1\u001b[39m:],\n\u001b[0;32m    124\u001b[0m                     [\u001b[38;5;28mlen\u001b[39m(e_event\u001b[38;5;241m.\u001b[39mclasses_), \u001b[38;5;28mlen\u001b[39m(e_agent\u001b[38;5;241m.\u001b[39mclasses_), \u001b[38;5;28mlen\u001b[39m(e_context\u001b[38;5;241m.\u001b[39mclasses_)], model_params)\n\u001b[1;32m--> 126\u001b[0m \u001b[43mmodel\u001b[49m\u001b[38;5;241;43m.\u001b[39;49m\u001b[43mfit\u001b[49m\u001b[43m(\u001b[49m\u001b[43m[\u001b[49m\u001b[43mX_train_event\u001b[49m\u001b[43m,\u001b[49m\u001b[43m \u001b[49m\u001b[43mX_train_agent\u001b[49m\u001b[43m,\u001b[49m\u001b[43m \u001b[49m\u001b[43mX_train_context\u001b[49m\u001b[43m]\u001b[49m\u001b[43m,\u001b[49m\n\u001b[0;32m    127\u001b[0m \u001b[43m            \u001b[49m\u001b[43m[\u001b[49m\u001b[43my_train_event\u001b[49m\u001b[43m,\u001b[49m\u001b[43m \u001b[49m\u001b[43my_train_agent\u001b[49m\u001b[43m,\u001b[49m\u001b[43m \u001b[49m\u001b[43my_train_context\u001b[49m\u001b[43m]\u001b[49m\u001b[43m,\u001b[49m\n\u001b[0;32m    128\u001b[0m \u001b[43m            \u001b[49m\u001b[43mvalidation_data\u001b[49m\u001b[38;5;241;43m=\u001b[39;49m\u001b[43m(\u001b[49m\u001b[43m[\u001b[49m\u001b[43mX_test_event\u001b[49m\u001b[43m,\u001b[49m\u001b[43m \u001b[49m\u001b[43mX_test_agent\u001b[49m\u001b[43m,\u001b[49m\u001b[43m \u001b[49m\u001b[43mX_test_context\u001b[49m\u001b[43m]\u001b[49m\u001b[43m,\u001b[49m\n\u001b[0;32m    129\u001b[0m \u001b[43m                            \u001b[49m\u001b[43m[\u001b[49m\u001b[43my_test_event\u001b[49m\u001b[43m,\u001b[49m\u001b[43m \u001b[49m\u001b[43my_test_agent\u001b[49m\u001b[43m,\u001b[49m\u001b[43m \u001b[49m\u001b[43my_test_context\u001b[49m\u001b[43m]\u001b[49m\u001b[43m)\u001b[49m\u001b[43m,\u001b[49m\n\u001b[0;32m    130\u001b[0m \u001b[43m            \u001b[49m\u001b[43mepochs\u001b[49m\u001b[38;5;241;43m=\u001b[39;49m\u001b[43mepochs\u001b[49m\u001b[43m,\u001b[49m\u001b[43m \u001b[49m\u001b[43mbatch_size\u001b[49m\u001b[38;5;241;43m=\u001b[39;49m\u001b[43mbatch_size\u001b[49m\u001b[43m)\u001b[49m\n\u001b[0;32m    132\u001b[0m \u001b[38;5;66;03m# Evaluate model\u001b[39;00m\n\u001b[0;32m    133\u001b[0m results \u001b[38;5;241m=\u001b[39m model\u001b[38;5;241m.\u001b[39mevaluate(\n\u001b[0;32m    134\u001b[0m         [X_test_event, X_test_agent, X_test_context],\n\u001b[0;32m    135\u001b[0m         [y_test_event, y_test_agent, y_test_context]\n\u001b[0;32m    136\u001b[0m     )\n",
      "File \u001b[1;32mc:\\Users\\vaibh\\AppData\\Local\\Programs\\Python\\Python311\\Lib\\site-packages\\keras\\src\\utils\\traceback_utils.py:122\u001b[0m, in \u001b[0;36mfilter_traceback.<locals>.error_handler\u001b[1;34m(*args, **kwargs)\u001b[0m\n\u001b[0;32m    119\u001b[0m     filtered_tb \u001b[38;5;241m=\u001b[39m _process_traceback_frames(e\u001b[38;5;241m.\u001b[39m__traceback__)\n\u001b[0;32m    120\u001b[0m     \u001b[38;5;66;03m# To get the full stack trace, call:\u001b[39;00m\n\u001b[0;32m    121\u001b[0m     \u001b[38;5;66;03m# `keras.config.disable_traceback_filtering()`\u001b[39;00m\n\u001b[1;32m--> 122\u001b[0m     \u001b[38;5;28;01mraise\u001b[39;00m e\u001b[38;5;241m.\u001b[39mwith_traceback(filtered_tb) \u001b[38;5;28;01mfrom\u001b[39;00m \u001b[38;5;28;01mNone\u001b[39;00m\n\u001b[0;32m    123\u001b[0m \u001b[38;5;28;01mfinally\u001b[39;00m:\n\u001b[0;32m    124\u001b[0m     \u001b[38;5;28;01mdel\u001b[39;00m filtered_tb\n",
      "File \u001b[1;32md:\\Research\\EventForge\\notebooks\\games\\tic-tac-toe\\GAT\\../../../..\\src\\models\\GAT_HRNN_Multihead.py:25\u001b[0m, in \u001b[0;36mGraphAttentionLayer.call\u001b[1;34m(self, inputs)\u001b[0m\n\u001b[0;32m     22\u001b[0m batch_size \u001b[38;5;241m=\u001b[39m tf\u001b[38;5;241m.\u001b[39mshape(inputs)[\u001b[38;5;241m0\u001b[39m]\n\u001b[0;32m     23\u001b[0m seq_len \u001b[38;5;241m=\u001b[39m tf\u001b[38;5;241m.\u001b[39mshape(inputs)[\u001b[38;5;241m1\u001b[39m]\n\u001b[1;32m---> 25\u001b[0m a_input \u001b[38;5;241m=\u001b[39m tf\u001b[38;5;241m.\u001b[39mconcat([\u001b[43mtf\u001b[49m\u001b[38;5;241;43m.\u001b[39;49m\u001b[43mtile\u001b[49m\u001b[43m(\u001b[49m\u001b[43mh\u001b[49m\u001b[43m,\u001b[49m\u001b[43m \u001b[49m\u001b[43m[\u001b[49m\u001b[38;5;241;43m1\u001b[39;49m\u001b[43m,\u001b[49m\u001b[43m \u001b[49m\u001b[38;5;241;43m1\u001b[39;49m\u001b[43m,\u001b[49m\u001b[43m \u001b[49m\u001b[43mseq_len\u001b[49m\u001b[43m]\u001b[49m\u001b[43m)\u001b[49m, tf\u001b[38;5;241m.\u001b[39mtile(tf\u001b[38;5;241m.\u001b[39mexpand_dims(h, axis\u001b[38;5;241m=\u001b[39m\u001b[38;5;241m2\u001b[39m), [\u001b[38;5;241m1\u001b[39m, \u001b[38;5;241m1\u001b[39m, seq_len, \u001b[38;5;241m1\u001b[39m])], axis\u001b[38;5;241m=\u001b[39m\u001b[38;5;241m-\u001b[39m\u001b[38;5;241m1\u001b[39m)\n\u001b[0;32m     26\u001b[0m a_input \u001b[38;5;241m=\u001b[39m tf\u001b[38;5;241m.\u001b[39mreshape(a_input, (\u001b[38;5;241m-\u001b[39m\u001b[38;5;241m1\u001b[39m, seq_len, seq_len, \u001b[38;5;241m2\u001b[39m\u001b[38;5;241m*\u001b[39m\u001b[38;5;28mself\u001b[39m\u001b[38;5;241m.\u001b[39munits))\n\u001b[0;32m     28\u001b[0m e \u001b[38;5;241m=\u001b[39m tf\u001b[38;5;241m.\u001b[39mnn\u001b[38;5;241m.\u001b[39mleaky_relu(tf\u001b[38;5;241m.\u001b[39mreduce_sum(tf\u001b[38;5;241m.\u001b[39mmatmul(a_input, \u001b[38;5;28mself\u001b[39m\u001b[38;5;241m.\u001b[39ma), axis\u001b[38;5;241m=\u001b[39m\u001b[38;5;241m-\u001b[39m\u001b[38;5;241m1\u001b[39m))\n",
      "\u001b[1;31mValueError\u001b[0m: Exception encountered when calling TimeDistributed.call().\n\n\u001b[1mShape must be rank 2 but is rank 3 for '{{node functional_1_1/time_distributed_1/Tile}} = Tile[T=DT_FLOAT, Tmultiples=DT_INT32](functional_1_1/time_distributed_1/MatMul, functional_1_1/time_distributed_1/Tile/multiples)' with input shapes: [?,32], [3].\u001b[0m\n\nArguments received by TimeDistributed.call():\n  • inputs=tf.Tensor(shape=(None, 20, 1), dtype=float32)\n  • training=True\n  • mask=None"
     ]
    }
   ],
   "source": [
    "model = train_and_test(\n",
    "    X_train, \n",
    "    X_test, \n",
    "    y_train, \n",
    "    y_test, \n",
    "    e_event, \n",
    "    e_agent, \n",
    "    e_context, \n",
    "    name=config['name'], \n",
    "    epochs=config['training']['num_epochs'], \n",
    "    batch_size=config['training']['batch_size'],\n",
    "    model_params=model_params,\n",
    "    build_model=build_model\n",
    ")"
   ]
  },
  {
   "cell_type": "code",
   "execution_count": null,
   "metadata": {},
   "outputs": [],
   "source": [
    "simulate_predictions(\n",
    "    data=X,\n",
    "    model=model,\n",
    "    e_event=e_event,\n",
    "    e_agent=e_agent,\n",
    "    e_context=e_context,\n",
    "    n = 15,\n",
    "    k = config['data']['sequence_length']\n",
    ")"
   ]
  },
  {
   "cell_type": "code",
   "execution_count": null,
   "metadata": {},
   "outputs": [],
   "source": [
    "simulate_predictions_from_pretrained(\n",
    "    data=X,\n",
    "    modelpath=f'../../../../models/{config['name']}.h5',\n",
    "    e_event=e_event,\n",
    "    e_agent=e_agent,\n",
    "    e_context=e_context,\n",
    "    n = 15,\n",
    "    k = config['data']['sequence_length']\n",
    ")"
   ]
  }
 ],
 "metadata": {
  "kernelspec": {
   "display_name": "venv",
   "language": "python",
   "name": "python3"
  },
  "language_info": {
   "codemirror_mode": {
    "name": "ipython",
    "version": 3
   },
   "file_extension": ".py",
   "mimetype": "text/x-python",
   "name": "python",
   "nbconvert_exporter": "python",
   "pygments_lexer": "ipython3",
   "version": "3.11.5"
  }
 },
 "nbformat": 4,
 "nbformat_minor": 2
}
