{
 "cells": [
  {
   "cell_type": "code",
   "execution_count": 1,
   "metadata": {},
   "outputs": [],
   "source": [
    "import sys\n",
    "import yaml\n",
    "from sklearn.model_selection import train_test_split\n",
    "\n",
    "sys.path.append('../../../')"
   ]
  },
  {
   "cell_type": "code",
   "execution_count": 2,
   "metadata": {},
   "outputs": [
    {
     "name": "stdout",
     "output_type": "stream",
     "text": [
      "No GPU available. Running on CPU.\n"
     ]
    }
   ],
   "source": [
    "from scripts.utils import load_data, preprocess_data_label_encoder, create_sequences, train_and_test, simulate_predictions"
   ]
  },
  {
   "cell_type": "code",
   "execution_count": 3,
   "metadata": {},
   "outputs": [],
   "source": [
    "from src.models.bidir_lstm_multihead import build_model"
   ]
  },
  {
   "cell_type": "code",
   "execution_count": 4,
   "metadata": {},
   "outputs": [],
   "source": [
    "YAML_FILE = '../../../configs/games/tic-tac-toe/bidir_lstm_multihead_10k.yml'"
   ]
  },
  {
   "cell_type": "code",
   "execution_count": 5,
   "metadata": {},
   "outputs": [
    {
     "name": "stdout",
     "output_type": "stream",
     "text": [
      "{'name': '/games/tic-tac-toe/bidir_lstm_multihead_10k', 'model': {'type': 'Bidirectional Multihead LSTM', 'embedding_dim': 128, 'hidden_size': 256, 'num_layers': 2}, 'training': {'batch_size': 64, 'num_epochs': 10}, 'data': {'game': 'tic-tac-toe', 'sequence_length': 20, 'max_event_length': 50, 'path': '/games/tic-tac-toe/10k_single_agent.csv'}}\n"
     ]
    }
   ],
   "source": [
    "with open(YAML_FILE, 'r') as f:\n",
    "    config = yaml.safe_load(f)\n",
    "print(config)"
   ]
  },
  {
   "cell_type": "code",
   "execution_count": 6,
   "metadata": {},
   "outputs": [],
   "source": [
    "# Load and preprocess data\n",
    "df = load_data(f'../../../data/processed/{config['data']['path']}')\n",
    "df, e_event, e_agent, e_context = preprocess_data_label_encoder(df)\n",
    "\n",
    "# Create sequences\n",
    "sequence_length = config['data']['sequence_length']\n",
    "X, y = create_sequences(df, sequence_length)\n",
    "\n",
    "# Split data\n",
    "X_train, X_test, y_train, y_test = train_test_split(X, y, test_size=0.2, random_state=42)"
   ]
  },
  {
   "cell_type": "code",
   "execution_count": 7,
   "metadata": {},
   "outputs": [
    {
     "name": "stdout",
     "output_type": "stream",
     "text": [
      "Epoch 1/10\n",
      "\u001b[1m1204/1204\u001b[0m \u001b[32m━━━━━━━━━━━━━━━━━━━━\u001b[0m\u001b[37m\u001b[0m \u001b[1m27s\u001b[0m 18ms/step - agent_id_accuracy: 0.6833 - context_accuracy: 0.2003 - event_type_accuracy: 0.8792 - loss: 3.1478 - val_agent_id_accuracy: 0.9303 - val_context_accuracy: 0.2651 - val_event_type_accuracy: 0.9312 - val_loss: 2.2275\n",
      "Epoch 2/10\n",
      "\u001b[1m1204/1204\u001b[0m \u001b[32m━━━━━━━━━━━━━━━━━━━━\u001b[0m\u001b[37m\u001b[0m \u001b[1m19s\u001b[0m 15ms/step - agent_id_accuracy: 0.9314 - context_accuracy: 0.2708 - event_type_accuracy: 0.9319 - loss: 2.2149 - val_agent_id_accuracy: 0.9312 - val_context_accuracy: 0.2706 - val_event_type_accuracy: 0.9312 - val_loss: 2.1904\n",
      "Epoch 3/10\n",
      "\u001b[1m1204/1204\u001b[0m \u001b[32m━━━━━━━━━━━━━━━━━━━━\u001b[0m\u001b[37m\u001b[0m \u001b[1m17s\u001b[0m 14ms/step - agent_id_accuracy: 0.9262 - context_accuracy: 0.2747 - event_type_accuracy: 0.9303 - loss: 2.2033 - val_agent_id_accuracy: 0.9304 - val_context_accuracy: 0.2695 - val_event_type_accuracy: 0.9315 - val_loss: 2.1973\n",
      "Epoch 4/10\n",
      "\u001b[1m1204/1204\u001b[0m \u001b[32m━━━━━━━━━━━━━━━━━━━━\u001b[0m\u001b[37m\u001b[0m \u001b[1m19s\u001b[0m 16ms/step - agent_id_accuracy: 0.9309 - context_accuracy: 0.2756 - event_type_accuracy: 0.9311 - loss: 2.1747 - val_agent_id_accuracy: 0.9310 - val_context_accuracy: 0.2718 - val_event_type_accuracy: 0.9313 - val_loss: 2.1678\n",
      "Epoch 5/10\n",
      "\u001b[1m1204/1204\u001b[0m \u001b[32m━━━━━━━━━━━━━━━━━━━━\u001b[0m\u001b[37m\u001b[0m \u001b[1m19s\u001b[0m 15ms/step - agent_id_accuracy: 0.9322 - context_accuracy: 0.2788 - event_type_accuracy: 0.9328 - loss: 2.1563 - val_agent_id_accuracy: 0.9312 - val_context_accuracy: 0.2851 - val_event_type_accuracy: 0.9312 - val_loss: 2.1273\n",
      "Epoch 6/10\n",
      "\u001b[1m1204/1204\u001b[0m \u001b[32m━━━━━━━━━━━━━━━━━━━━\u001b[0m\u001b[37m\u001b[0m \u001b[1m19s\u001b[0m 16ms/step - agent_id_accuracy: 0.9309 - context_accuracy: 0.2853 - event_type_accuracy: 0.9315 - loss: 2.1330 - val_agent_id_accuracy: 0.9295 - val_context_accuracy: 0.2914 - val_event_type_accuracy: 0.9309 - val_loss: 2.1000\n",
      "Epoch 7/10\n",
      "\u001b[1m1204/1204\u001b[0m \u001b[32m━━━━━━━━━━━━━━━━━━━━\u001b[0m\u001b[37m\u001b[0m \u001b[1m19s\u001b[0m 16ms/step - agent_id_accuracy: 0.9309 - context_accuracy: 0.2849 - event_type_accuracy: 0.9316 - loss: 2.1104 - val_agent_id_accuracy: 0.9305 - val_context_accuracy: 0.2893 - val_event_type_accuracy: 0.9310 - val_loss: 2.1427\n",
      "Epoch 8/10\n",
      "\u001b[1m1204/1204\u001b[0m \u001b[32m━━━━━━━━━━━━━━━━━━━━\u001b[0m\u001b[37m\u001b[0m \u001b[1m18s\u001b[0m 15ms/step - agent_id_accuracy: 0.9316 - context_accuracy: 0.2899 - event_type_accuracy: 0.9316 - loss: 2.0974 - val_agent_id_accuracy: 0.9312 - val_context_accuracy: 0.3099 - val_event_type_accuracy: 0.9312 - val_loss: 2.0570\n",
      "Epoch 9/10\n",
      "\u001b[1m1204/1204\u001b[0m \u001b[32m━━━━━━━━━━━━━━━━━━━━\u001b[0m\u001b[37m\u001b[0m \u001b[1m19s\u001b[0m 16ms/step - agent_id_accuracy: 0.9315 - context_accuracy: 0.3024 - event_type_accuracy: 0.9315 - loss: 2.0685 - val_agent_id_accuracy: 0.9312 - val_context_accuracy: 0.3042 - val_event_type_accuracy: 0.9312 - val_loss: 2.0481\n",
      "Epoch 10/10\n",
      "\u001b[1m1204/1204\u001b[0m \u001b[32m━━━━━━━━━━━━━━━━━━━━\u001b[0m\u001b[37m\u001b[0m \u001b[1m19s\u001b[0m 15ms/step - agent_id_accuracy: 0.9326 - context_accuracy: 0.3029 - event_type_accuracy: 0.9331 - loss: 2.0477 - val_agent_id_accuracy: 0.9312 - val_context_accuracy: 0.3079 - val_event_type_accuracy: 0.9312 - val_loss: 2.0307\n",
      "\u001b[1m602/602\u001b[0m \u001b[32m━━━━━━━━━━━━━━━━━━━━\u001b[0m\u001b[37m\u001b[0m \u001b[1m3s\u001b[0m 5ms/step - agent_id_accuracy: 0.9320 - context_accuracy: 0.3094 - event_type_accuracy: 0.9320 - loss: 2.0324\n"
     ]
    },
    {
     "name": "stderr",
     "output_type": "stream",
     "text": [
      "WARNING:absl:You are saving your model as an HDF5 file via `model.save()` or `keras.saving.save_model(model)`. This file format is considered legacy. We recommend using instead the native Keras format, e.g. `model.save('my_model.keras')` or `keras.saving.save_model(model, 'my_model.keras')`. \n"
     ]
    },
    {
     "name": "stdout",
     "output_type": "stream",
     "text": [
      "Test Results:\n",
      "loss: 2.0307\n",
      "compile_metrics: 0.9312\n"
     ]
    }
   ],
   "source": [
    "model = train_and_test(\n",
    "    X_train, \n",
    "    X_test, \n",
    "    y_train, \n",
    "    y_test, \n",
    "    e_event, \n",
    "    e_agent, \n",
    "    e_context, \n",
    "    name=config['name'], \n",
    "    epochs=config['training']['num_epochs'], \n",
    "    batch_size=config['training']['batch_size'],\n",
    "    build_model=build_model\n",
    ")"
   ]
  },
  {
   "cell_type": "code",
   "execution_count": 8,
   "metadata": {},
   "outputs": [
    {
     "name": "stdout",
     "output_type": "stream",
     "text": [
      "\u001b[1m1/1\u001b[0m \u001b[32m━━━━━━━━━━━━━━━━━━━━\u001b[0m\u001b[37m\u001b[0m \u001b[1m0s\u001b[0m 437ms/step\n",
      "\u001b[1m1/1\u001b[0m \u001b[32m━━━━━━━━━━━━━━━━━━━━\u001b[0m\u001b[37m\u001b[0m \u001b[1m0s\u001b[0m 16ms/step\n",
      "\u001b[1m1/1\u001b[0m \u001b[32m━━━━━━━━━━━━━━━━━━━━\u001b[0m\u001b[37m\u001b[0m \u001b[1m0s\u001b[0m 16ms/step\n",
      "\u001b[1m1/1\u001b[0m \u001b[32m━━━━━━━━━━━━━━━━━━━━\u001b[0m\u001b[37m\u001b[0m \u001b[1m0s\u001b[0m 31ms/step\n",
      "\u001b[1m1/1\u001b[0m \u001b[32m━━━━━━━━━━━━━━━━━━━━\u001b[0m\u001b[37m\u001b[0m \u001b[1m0s\u001b[0m 31ms/step\n",
      "\u001b[1m1/1\u001b[0m \u001b[32m━━━━━━━━━━━━━━━━━━━━\u001b[0m\u001b[37m\u001b[0m \u001b[1m0s\u001b[0m 16ms/step\n",
      "\u001b[1m1/1\u001b[0m \u001b[32m━━━━━━━━━━━━━━━━━━━━\u001b[0m\u001b[37m\u001b[0m \u001b[1m0s\u001b[0m 31ms/step\n",
      "\u001b[1m1/1\u001b[0m \u001b[32m━━━━━━━━━━━━━━━━━━━━\u001b[0m\u001b[37m\u001b[0m \u001b[1m0s\u001b[0m 31ms/step\n",
      "\u001b[1m1/1\u001b[0m \u001b[32m━━━━━━━━━━━━━━━━━━━━\u001b[0m\u001b[37m\u001b[0m \u001b[1m0s\u001b[0m 31ms/step\n",
      "\u001b[1m1/1\u001b[0m \u001b[32m━━━━━━━━━━━━━━━━━━━━\u001b[0m\u001b[37m\u001b[0m \u001b[1m0s\u001b[0m 16ms/step\n",
      "\u001b[1m1/1\u001b[0m \u001b[32m━━━━━━━━━━━━━━━━━━━━\u001b[0m\u001b[37m\u001b[0m \u001b[1m0s\u001b[0m 31ms/step\n",
      "\u001b[1m1/1\u001b[0m \u001b[32m━━━━━━━━━━━━━━━━━━━━\u001b[0m\u001b[37m\u001b[0m \u001b[1m0s\u001b[0m 31ms/step\n",
      "\u001b[1m1/1\u001b[0m \u001b[32m━━━━━━━━━━━━━━━━━━━━\u001b[0m\u001b[37m\u001b[0m \u001b[1m0s\u001b[0m 31ms/step\n",
      "\u001b[1m1/1\u001b[0m \u001b[32m━━━━━━━━━━━━━━━━━━━━\u001b[0m\u001b[37m\u001b[0m \u001b[1m0s\u001b[0m 31ms/step\n",
      "\u001b[1m1/1\u001b[0m \u001b[32m━━━━━━━━━━━━━━━━━━━━\u001b[0m\u001b[37m\u001b[0m \u001b[1m0s\u001b[0m 16ms/step\n",
      "Initial sequence:\n",
      "GAME_START, system, New Game\n",
      "MOVE, X, 0,2\n",
      "MOVE, O, 1,1\n",
      "MOVE, X, 2,1\n",
      "MOVE, O, 0,1\n",
      "MOVE, X, 2,0\n",
      "MOVE, O, 1,2\n",
      "MOVE, X, 2,2\n",
      "GAME_END, system, X\n",
      "GAME_START, system, New Game\n",
      "MOVE, X, 0,0\n",
      "MOVE, O, 0,1\n",
      "MOVE, X, 2,1\n",
      "MOVE, O, 1,1\n",
      "MOVE, X, 0,2\n",
      "MOVE, O, 2,0\n",
      "MOVE, X, 2,2\n",
      "MOVE, O, 1,0\n",
      "MOVE, X, 1,2\n",
      "GAME_END, system, X\n",
      "\n",
      "Predicted moves:\n",
      "Move 1: GAME_START, system, New Game\n",
      "Move 2: MOVE, X, 0,2\n",
      "Move 3: MOVE, O, 2,2\n",
      "Move 4: MOVE, X, 0,2\n",
      "Move 5: MOVE, O, 2,2\n",
      "Move 6: MOVE, X, 0,0\n",
      "Move 7: MOVE, O, 0,2\n",
      "Move 8: MOVE, X, 1,1\n",
      "Move 9: MOVE, O, X\n",
      "Move 10: MOVE, X, O\n",
      "Move 11: MOVE, O, 0,2\n",
      "Move 12: MOVE, X, O\n",
      "Move 13: GAME_END, system, 1,0\n",
      "Move 14: GAME_START, system, New Game\n",
      "Move 15: MOVE, X, 2,0\n"
     ]
    }
   ],
   "source": [
    "simulate_predictions(\n",
    "    data=X,\n",
    "    model=model,\n",
    "    e_event=e_event,\n",
    "    e_agent=e_agent,\n",
    "    e_context=e_context,\n",
    "    n = 15,\n",
    "    k = config['data']['sequence_length']\n",
    ")"
   ]
  }
 ],
 "metadata": {
  "kernelspec": {
   "display_name": "venv",
   "language": "python",
   "name": "python3"
  },
  "language_info": {
   "codemirror_mode": {
    "name": "ipython",
    "version": 3
   },
   "file_extension": ".py",
   "mimetype": "text/x-python",
   "name": "python",
   "nbconvert_exporter": "python",
   "pygments_lexer": "ipython3",
   "version": "3.12.4"
  }
 },
 "nbformat": 4,
 "nbformat_minor": 2
}
