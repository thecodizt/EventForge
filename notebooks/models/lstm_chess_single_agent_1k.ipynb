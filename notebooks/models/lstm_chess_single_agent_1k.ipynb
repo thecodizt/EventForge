{
 "cells": [
  {
   "cell_type": "code",
   "execution_count": 1,
   "metadata": {},
   "outputs": [],
   "source": [
    "import sys\n",
    "import os\n",
    "import yaml\n",
    "import json\n",
    "\n",
    "sys.path.append('../../')\n",
    "\n",
    "from constants import ROOT_DIR\n"
   ]
  },
  {
   "cell_type": "code",
   "execution_count": 2,
   "metadata": {},
   "outputs": [],
   "source": [
    "YAML_FILE = '../../configs/model_configs/lstm_tic_tac_toe_single_agent.yml'\n",
    "from src.models.lstm_model import create_model"
   ]
  },
  {
   "cell_type": "code",
   "execution_count": 3,
   "metadata": {},
   "outputs": [
    {
     "name": "stdout",
     "output_type": "stream",
     "text": [
      "{'name': 'lstm_tic_tac_toe_single_agent_1k_model', 'model': {'type': 'LSTM', 'embedding_dim': 128, 'hidden_size': 256, 'num_layers': 2}, 'training': {'batch_size': 64, 'learning_rate': 0.001, 'num_epochs': 10}, 'data': {'game': 'tic-tac-toe', 'sequence_length': 20, 'max_event_length': 10, 'path': '/games/tic-tac-toe/1k_single_agent.csv'}}\n"
     ]
    }
   ],
   "source": [
    "with open(YAML_FILE, 'r') as f:\n",
    "    config = yaml.safe_load(f)\n",
    "print(config)"
   ]
  },
  {
   "cell_type": "code",
   "execution_count": 4,
   "metadata": {},
   "outputs": [],
   "source": [
    "import torch\n",
    "import torch.nn as nn\n",
    "import torch.optim as optim\n",
    "from torch.utils.data import DataLoader\n",
    "from torch.nn.utils.rnn import pad_sequence\n",
    "from src.data.datasets.event_dataset import EventDataset"
   ]
  },
  {
   "cell_type": "code",
   "execution_count": 5,
   "metadata": {},
   "outputs": [],
   "source": [
    "def collate_fn(batch):\n",
    "    batch_input, batch_target, sequences, targets = zip(*batch)\n",
    "    \n",
    "    # Pad batch_target to the maximum length in the batch\n",
    "    max_length = max(len(target) for target in batch_target)\n",
    "    batch_target = [torch.nn.functional.pad(target, (0, max_length - len(target)), value=0) for target in batch_target]\n",
    "    \n",
    "    batch_input = [item for sublist in batch_input for item in sublist]\n",
    "    batch_input = torch.nn.utils.rnn.pad_sequence(batch_input, batch_first=True, padding_value=0)\n",
    "    batch_target = torch.stack(batch_target)\n",
    "    \n",
    "    return batch_input, batch_target, sequences, targets\n",
    "\n",
    "def train_model(config):\n",
    "    dataset = EventDataset(config['data']['path'], config['data']['sequence_length'])\n",
    "    dataloader = DataLoader(dataset, batch_size=config['training']['batch_size'], shuffle=True, collate_fn=collate_fn)\n",
    "\n",
    "    model = create_model(config, dataset.vocab_size)\n",
    "    criterion = nn.CrossEntropyLoss(ignore_index=0)  # Ignore padding index\n",
    "    optimizer = optim.Adam(model.parameters(), lr=config['training']['learning_rate'])\n",
    "\n",
    "    device = torch.device(\"cuda\" if torch.cuda.is_available() else \"cpu\")\n",
    "    model.to(device)\n",
    "\n",
    "    print(f\"Vocabulary size: {dataset.vocab_size}\")\n",
    "    print(f\"Device: {device}\")\n",
    "\n",
    "    for epoch in range(config['training']['num_epochs']):\n",
    "        model.train()\n",
    "        total_loss = 0\n",
    "        for batch_idx, (batch_input, batch_target, _, _) in enumerate(dataloader):\n",
    "            # print(f\"\\nBatch {batch_idx + 1}:\")\n",
    "            # print(f\"Input shape: {batch_input.shape}\")\n",
    "            # print(f\"Target shape: {batch_target.shape}\")\n",
    "\n",
    "            batch_input, batch_target = batch_input.to(device), batch_target.to(device)\n",
    "            \n",
    "            optimizer.zero_grad()\n",
    "            output = model(batch_input)\n",
    "            # print(f\"Raw output shape: {output.shape}\")\n",
    "            \n",
    "            # Reshape output and target tensors\n",
    "            batch_size, seq_len, vocab_size = output.shape\n",
    "            output = output.contiguous().view(-1, vocab_size)\n",
    "            batch_target = batch_target.view(-1)\n",
    "            \n",
    "            # print(f\"Reshaped output shape: {output.shape}\")\n",
    "            # print(f\"Reshaped target shape: {batch_target.shape}\")\n",
    "            \n",
    "            # Ensure output and target have the same batch size\n",
    "            min_length = min(output.size(0), batch_target.size(0))\n",
    "            output = output[:min_length]\n",
    "            batch_target = batch_target[:min_length]\n",
    "            \n",
    "            # print(f\"Final output shape: {output.shape}\")\n",
    "            # print(f\"Final target shape: {batch_target.shape}\")\n",
    "\n",
    "            try:\n",
    "                loss = criterion(output, batch_target)\n",
    "                # print(f\"Loss: {loss.item()}\")\n",
    "\n",
    "                loss.backward()\n",
    "                optimizer.step()\n",
    "\n",
    "                total_loss += loss.item()\n",
    "            except RuntimeError as e:\n",
    "                print(f\"Runtime error during training: {e}\")\n",
    "                continue\n",
    "\n",
    "            # if batch_idx % 10 == 0:\n",
    "            #     print(f\"Epoch {epoch+1}, Batch {batch_idx+1}/{len(dataloader)}, Loss: {loss.item():.4f}\")\n",
    "\n",
    "        print(f\"Epoch {epoch+1}/{config['training']['num_epochs']}, Average Loss: {total_loss/len(dataloader):.4f}\")\n",
    "\n",
    "    torch.save(model.state_dict(), f'../../results/models/{config[\"name\"]}.pth')\n",
    "    print(f\"\\nModel saved to ../../results/models/{config['name']}.pth\")\n",
    "     \n",
    "def evaluate_model(config):\n",
    "    dataset = EventDataset(config['data']['path'], config['data']['sequence_length'])\n",
    "    dataloader = DataLoader(dataset, batch_size=config['training']['batch_size'], shuffle=False, collate_fn=collate_fn)\n",
    "\n",
    "    model = create_model(config, dataset.vocab_size)\n",
    "    model.load_state_dict(torch.load(f'../../results/models/{config[\"name\"]}.pth'))\n",
    "    \n",
    "    device = torch.device(\"cuda\" if torch.cuda.is_available() else \"cpu\")\n",
    "    model.to(device)\n",
    "    model.eval()\n",
    "\n",
    "    correct = 0\n",
    "    total = 0\n",
    "\n",
    "    with torch.no_grad():\n",
    "        for batch_input, batch_target, _, _ in dataloader:\n",
    "            batch_input, batch_target = batch_input.to(device), batch_target.to(device)\n",
    "            \n",
    "            outputs = model(batch_input)\n",
    "            \n",
    "            # Reshape outputs and target\n",
    "            batch_size, seq_len, vocab_size = outputs.shape\n",
    "            outputs = outputs.contiguous().view(-1, vocab_size)\n",
    "            batch_target = batch_target.contiguous().view(-1)\n",
    "            \n",
    "            # Ensure outputs and target have the same batch size\n",
    "            min_length = min(outputs.size(0), batch_target.size(0))\n",
    "            outputs = outputs[:min_length]\n",
    "            batch_target = batch_target[:min_length]\n",
    "            \n",
    "            _, predicted = torch.max(outputs, 1)\n",
    "            \n",
    "            # Ignore padded elements (assuming 0 is the padding index)\n",
    "            mask = batch_target != 0\n",
    "            predicted = predicted[mask]\n",
    "            batch_target = batch_target[mask]\n",
    "            \n",
    "            total += batch_target.size(0)\n",
    "            correct += (predicted == batch_target).sum().item()\n",
    "\n",
    "    accuracy = 100 * correct / total\n",
    "    print(f'Accuracy on the test set: {accuracy:.2f}%')\n",
    "    \n",
    "def evaluate_custom_log(config, lower, upper):\n",
    "    dataset = EventDataset(config['data']['path'], config['data']['sequence_length'])\n",
    "    \n",
    "    model = create_model(config, dataset.vocab_size)\n",
    "    model.load_state_dict(torch.load(f'../../results/models/{config[\"name\"]}.pth'))\n",
    "    \n",
    "    device = torch.device(\"cuda\" if torch.cuda.is_available() else \"cpu\")\n",
    "    model.to(device)\n",
    "    model.eval()\n",
    "\n",
    "    results = []\n",
    "\n",
    "    with torch.no_grad():\n",
    "        for idx in range(lower, min(upper + 1, len(dataset))):\n",
    "            input_tensor, target_tensor, input_sequence, target_event = dataset[idx]\n",
    "            \n",
    "            # Ensure input_tensor is 3D: (batch_size, sequence_length, input_size)\n",
    "            input_tensor = pad_sequence(input_tensor, batch_first=True).unsqueeze(0).to(device)\n",
    "            \n",
    "            # Print shape for debugging\n",
    "            print(f\"Input tensor shape: {input_tensor.shape}\")\n",
    "            \n",
    "            output = model(input_tensor)\n",
    "            \n",
    "            # Assuming output shape is (batch_size, sequence_length, vocab_size)\n",
    "            predicted = output.argmax(dim=-1)\n",
    "            \n",
    "            input_events = [dataset.decode_event(event) for event in input_tensor[0]]\n",
    "            actual_next_event = dataset.decode_event(target_tensor)\n",
    "            predicted_next_event = dataset.decode_event(predicted[0, -1])  # Take the last prediction\n",
    "            \n",
    "            results.append({\n",
    "                'input': input_events,\n",
    "                'actual': actual_next_event,\n",
    "                'predicted': predicted_next_event\n",
    "            })\n",
    "\n",
    "    return results\n",
    "\n",
    "def display_evaluation_results(results):\n",
    "    for i, result in enumerate(results, 1):\n",
    "        print(f\"\\nSample {i}:\")\n",
    "        print(\"Input sequence:\")\n",
    "        for event in result['input']:\n",
    "            print(f\"  Cycle: {event['cycle']}, Event: {event['event_type']}, Agent: {event['agent_id']}, Context: {event['context']}\")\n",
    "        print(\"Actual next event:\")\n",
    "        print(f\"  Cycle: {result['actual']['cycle']}, Event: {result['actual']['event_type']}, Agent: {result['actual']['agent_id']}, Context: {result['actual']['context']}\")\n",
    "        print(\"Predicted next event:\")\n",
    "        print(f\"  Cycle: {result['predicted']['cycle']}, Event: {result['predicted']['event_type']}, Agent: {result['predicted']['agent_id']}, Context: {result['predicted']['context']}\")\n",
    "        print(\"-\" * 50)"
   ]
  },
  {
   "cell_type": "code",
   "execution_count": 6,
   "metadata": {},
   "outputs": [
    {
     "name": "stderr",
     "output_type": "stream",
     "text": [
      "c:\\Users\\vaibh\\AppData\\Local\\Programs\\Python\\Python311\\Lib\\site-packages\\tqdm\\auto.py:21: TqdmWarning: IProgress not found. Please update jupyter and ipywidgets. See https://ipywidgets.readthedocs.io/en/stable/user_install.html\n",
      "  from .autonotebook import tqdm as notebook_tqdm\n"
     ]
    },
    {
     "name": "stdout",
     "output_type": "stream",
     "text": [
      "Vocabulary size: 552\n",
      "Device: cuda\n"
     ]
    },
    {
     "name": "stderr",
     "output_type": "stream",
     "text": [
      "d:\\Research\\EventForge\\notebooks\\models\\../..\\src\\data\\datasets\\event_dataset.py:40: UserWarning: To copy construct from a tensor, it is recommended to use sourceTensor.clone().detach() or sourceTensor.clone().detach().requires_grad_(True), rather than torch.tensor(sourceTensor).\n",
      "  input_tensor = [torch.tensor(seq).clone().detach() for seq in input_seq]\n"
     ]
    },
    {
     "name": "stdout",
     "output_type": "stream",
     "text": [
      "Epoch 1/10, Average Loss: 2.8432\n",
      "Epoch 2/10, Average Loss: 2.6632\n",
      "Epoch 3/10, Average Loss: 2.6642\n",
      "Epoch 4/10, Average Loss: 2.6644\n",
      "Epoch 5/10, Average Loss: 2.6656\n",
      "Epoch 6/10, Average Loss: 2.6641\n",
      "Epoch 7/10, Average Loss: 2.6637\n",
      "Epoch 8/10, Average Loss: 2.6632\n",
      "Epoch 9/10, Average Loss: 2.6627\n",
      "Epoch 10/10, Average Loss: 2.6627\n",
      "\n",
      "Model saved to ../../results/models/lstm_tic_tac_toe_single_agent_1k_model.pth\n"
     ]
    }
   ],
   "source": [
    "train_model(config=config)"
   ]
  },
  {
   "cell_type": "code",
   "execution_count": 7,
   "metadata": {},
   "outputs": [
    {
     "name": "stderr",
     "output_type": "stream",
     "text": [
      "d:\\Research\\EventForge\\notebooks\\models\\../..\\src\\data\\datasets\\event_dataset.py:40: UserWarning: To copy construct from a tensor, it is recommended to use sourceTensor.clone().detach() or sourceTensor.clone().detach().requires_grad_(True), rather than torch.tensor(sourceTensor).\n",
      "  input_tensor = [torch.tensor(seq).clone().detach() for seq in input_seq]\n"
     ]
    },
    {
     "name": "stdout",
     "output_type": "stream",
     "text": [
      "Accuracy on the test set: 20.00%\n"
     ]
    }
   ],
   "source": [
    "evaluate_model(config=config)"
   ]
  },
  {
   "cell_type": "code",
   "execution_count": 8,
   "metadata": {},
   "outputs": [
    {
     "name": "stderr",
     "output_type": "stream",
     "text": [
      "d:\\Research\\EventForge\\notebooks\\models\\../..\\src\\data\\datasets\\event_dataset.py:40: UserWarning: To copy construct from a tensor, it is recommended to use sourceTensor.clone().detach() or sourceTensor.clone().detach().requires_grad_(True), rather than torch.tensor(sourceTensor).\n",
      "  input_tensor = [torch.tensor(seq).clone().detach() for seq in input_seq]\n"
     ]
    },
    {
     "name": "stdout",
     "output_type": "stream",
     "text": [
      "Original input_tensor shape: [torch.Size([5]), torch.Size([5]), torch.Size([5]), torch.Size([5]), torch.Size([5]), torch.Size([5]), torch.Size([5]), torch.Size([7]), torch.Size([3]), torch.Size([5]), torch.Size([5]), torch.Size([5]), torch.Size([5]), torch.Size([5]), torch.Size([5]), torch.Size([5]), torch.Size([7]), torch.Size([3]), torch.Size([5]), torch.Size([5])]\n",
      "Padded input_tensor shape: torch.Size([20, 7])\n",
      "Final input_tensor shape: torch.Size([1, 20, 7])\n"
     ]
    },
    {
     "ename": "ValueError",
     "evalue": "LSTM: Expected input to be 2D or 3D, got 4D instead",
     "output_type": "error",
     "traceback": [
      "\u001b[1;31m---------------------------------------------------------------------------\u001b[0m",
      "\u001b[1;31mValueError\u001b[0m                                Traceback (most recent call last)",
      "Cell \u001b[1;32mIn[8], line 54\u001b[0m\n\u001b[0;32m     51\u001b[0m     \u001b[38;5;28;01mreturn\u001b[39;00m results\n\u001b[0;32m     53\u001b[0m \u001b[38;5;66;03m# Usage\u001b[39;00m\n\u001b[1;32m---> 54\u001b[0m results \u001b[38;5;241m=\u001b[39m \u001b[43mevaluate_custom_log\u001b[49m\u001b[43m(\u001b[49m\u001b[43mconfig\u001b[49m\u001b[43m,\u001b[49m\u001b[43m \u001b[49m\u001b[38;5;241;43m20\u001b[39;49m\u001b[43m,\u001b[49m\u001b[43m \u001b[49m\u001b[38;5;241;43m40\u001b[39;49m\u001b[43m)\u001b[49m\n\u001b[0;32m     55\u001b[0m display_evaluation_results(results)\n",
      "Cell \u001b[1;32mIn[8], line 28\u001b[0m, in \u001b[0;36mevaluate_custom_log\u001b[1;34m(config, lower, upper)\u001b[0m\n\u001b[0;32m     25\u001b[0m \u001b[38;5;28mprint\u001b[39m(\u001b[38;5;124mf\u001b[39m\u001b[38;5;124m\"\u001b[39m\u001b[38;5;124mFinal input_tensor shape: \u001b[39m\u001b[38;5;132;01m{\u001b[39;00minput_tensor_padded\u001b[38;5;241m.\u001b[39mshape\u001b[38;5;132;01m}\u001b[39;00m\u001b[38;5;124m\"\u001b[39m)\n\u001b[0;32m     27\u001b[0m \u001b[38;5;66;03m# Get model prediction\u001b[39;00m\n\u001b[1;32m---> 28\u001b[0m output \u001b[38;5;241m=\u001b[39m \u001b[43mmodel\u001b[49m\u001b[43m(\u001b[49m\u001b[43minput_tensor_padded\u001b[49m\u001b[43m)\u001b[49m\n\u001b[0;32m     29\u001b[0m \u001b[38;5;28mprint\u001b[39m(\u001b[38;5;124mf\u001b[39m\u001b[38;5;124m\"\u001b[39m\u001b[38;5;124mModel output shape: \u001b[39m\u001b[38;5;132;01m{\u001b[39;00moutput\u001b[38;5;241m.\u001b[39mshape\u001b[38;5;132;01m}\u001b[39;00m\u001b[38;5;124m\"\u001b[39m)\n\u001b[0;32m     31\u001b[0m \u001b[38;5;66;03m# Take the last time step prediction\u001b[39;00m\n",
      "File \u001b[1;32mc:\\Users\\vaibh\\AppData\\Local\\Programs\\Python\\Python311\\Lib\\site-packages\\torch\\nn\\modules\\module.py:1511\u001b[0m, in \u001b[0;36mModule._wrapped_call_impl\u001b[1;34m(self, *args, **kwargs)\u001b[0m\n\u001b[0;32m   1509\u001b[0m     \u001b[38;5;28;01mreturn\u001b[39;00m \u001b[38;5;28mself\u001b[39m\u001b[38;5;241m.\u001b[39m_compiled_call_impl(\u001b[38;5;241m*\u001b[39margs, \u001b[38;5;241m*\u001b[39m\u001b[38;5;241m*\u001b[39mkwargs)  \u001b[38;5;66;03m# type: ignore[misc]\u001b[39;00m\n\u001b[0;32m   1510\u001b[0m \u001b[38;5;28;01melse\u001b[39;00m:\n\u001b[1;32m-> 1511\u001b[0m     \u001b[38;5;28;01mreturn\u001b[39;00m \u001b[38;5;28;43mself\u001b[39;49m\u001b[38;5;241;43m.\u001b[39;49m\u001b[43m_call_impl\u001b[49m\u001b[43m(\u001b[49m\u001b[38;5;241;43m*\u001b[39;49m\u001b[43margs\u001b[49m\u001b[43m,\u001b[49m\u001b[43m \u001b[49m\u001b[38;5;241;43m*\u001b[39;49m\u001b[38;5;241;43m*\u001b[39;49m\u001b[43mkwargs\u001b[49m\u001b[43m)\u001b[49m\n",
      "File \u001b[1;32mc:\\Users\\vaibh\\AppData\\Local\\Programs\\Python\\Python311\\Lib\\site-packages\\torch\\nn\\modules\\module.py:1520\u001b[0m, in \u001b[0;36mModule._call_impl\u001b[1;34m(self, *args, **kwargs)\u001b[0m\n\u001b[0;32m   1515\u001b[0m \u001b[38;5;66;03m# If we don't have any hooks, we want to skip the rest of the logic in\u001b[39;00m\n\u001b[0;32m   1516\u001b[0m \u001b[38;5;66;03m# this function, and just call forward.\u001b[39;00m\n\u001b[0;32m   1517\u001b[0m \u001b[38;5;28;01mif\u001b[39;00m \u001b[38;5;129;01mnot\u001b[39;00m (\u001b[38;5;28mself\u001b[39m\u001b[38;5;241m.\u001b[39m_backward_hooks \u001b[38;5;129;01mor\u001b[39;00m \u001b[38;5;28mself\u001b[39m\u001b[38;5;241m.\u001b[39m_backward_pre_hooks \u001b[38;5;129;01mor\u001b[39;00m \u001b[38;5;28mself\u001b[39m\u001b[38;5;241m.\u001b[39m_forward_hooks \u001b[38;5;129;01mor\u001b[39;00m \u001b[38;5;28mself\u001b[39m\u001b[38;5;241m.\u001b[39m_forward_pre_hooks\n\u001b[0;32m   1518\u001b[0m         \u001b[38;5;129;01mor\u001b[39;00m _global_backward_pre_hooks \u001b[38;5;129;01mor\u001b[39;00m _global_backward_hooks\n\u001b[0;32m   1519\u001b[0m         \u001b[38;5;129;01mor\u001b[39;00m _global_forward_hooks \u001b[38;5;129;01mor\u001b[39;00m _global_forward_pre_hooks):\n\u001b[1;32m-> 1520\u001b[0m     \u001b[38;5;28;01mreturn\u001b[39;00m \u001b[43mforward_call\u001b[49m\u001b[43m(\u001b[49m\u001b[38;5;241;43m*\u001b[39;49m\u001b[43margs\u001b[49m\u001b[43m,\u001b[49m\u001b[43m \u001b[49m\u001b[38;5;241;43m*\u001b[39;49m\u001b[38;5;241;43m*\u001b[39;49m\u001b[43mkwargs\u001b[49m\u001b[43m)\u001b[49m\n\u001b[0;32m   1522\u001b[0m \u001b[38;5;28;01mtry\u001b[39;00m:\n\u001b[0;32m   1523\u001b[0m     result \u001b[38;5;241m=\u001b[39m \u001b[38;5;28;01mNone\u001b[39;00m\n",
      "File \u001b[1;32md:\\Research\\EventForge\\notebooks\\models\\../..\\src\\models\\lstm_model.py:14\u001b[0m, in \u001b[0;36mLSTMModel.forward\u001b[1;34m(self, x)\u001b[0m\n\u001b[0;32m     12\u001b[0m \u001b[38;5;28;01mdef\u001b[39;00m \u001b[38;5;21mforward\u001b[39m(\u001b[38;5;28mself\u001b[39m, x):\n\u001b[0;32m     13\u001b[0m     embedded \u001b[38;5;241m=\u001b[39m \u001b[38;5;28mself\u001b[39m\u001b[38;5;241m.\u001b[39membedding(x)\n\u001b[1;32m---> 14\u001b[0m     lstm_out, _ \u001b[38;5;241m=\u001b[39m \u001b[38;5;28;43mself\u001b[39;49m\u001b[38;5;241;43m.\u001b[39;49m\u001b[43mlstm\u001b[49m\u001b[43m(\u001b[49m\u001b[43membedded\u001b[49m\u001b[43m)\u001b[49m\n\u001b[0;32m     15\u001b[0m     output \u001b[38;5;241m=\u001b[39m \u001b[38;5;28mself\u001b[39m\u001b[38;5;241m.\u001b[39mfc(lstm_out[:, \u001b[38;5;241m-\u001b[39m\u001b[38;5;241m1\u001b[39m, :])\n\u001b[0;32m     16\u001b[0m     \u001b[38;5;28;01mreturn\u001b[39;00m output\u001b[38;5;241m.\u001b[39mview(\u001b[38;5;241m-\u001b[39m\u001b[38;5;241m1\u001b[39m, \u001b[38;5;28mself\u001b[39m\u001b[38;5;241m.\u001b[39mmax_event_length, output\u001b[38;5;241m.\u001b[39msize(\u001b[38;5;241m-\u001b[39m\u001b[38;5;241m1\u001b[39m))\n",
      "File \u001b[1;32mc:\\Users\\vaibh\\AppData\\Local\\Programs\\Python\\Python311\\Lib\\site-packages\\torch\\nn\\modules\\module.py:1511\u001b[0m, in \u001b[0;36mModule._wrapped_call_impl\u001b[1;34m(self, *args, **kwargs)\u001b[0m\n\u001b[0;32m   1509\u001b[0m     \u001b[38;5;28;01mreturn\u001b[39;00m \u001b[38;5;28mself\u001b[39m\u001b[38;5;241m.\u001b[39m_compiled_call_impl(\u001b[38;5;241m*\u001b[39margs, \u001b[38;5;241m*\u001b[39m\u001b[38;5;241m*\u001b[39mkwargs)  \u001b[38;5;66;03m# type: ignore[misc]\u001b[39;00m\n\u001b[0;32m   1510\u001b[0m \u001b[38;5;28;01melse\u001b[39;00m:\n\u001b[1;32m-> 1511\u001b[0m     \u001b[38;5;28;01mreturn\u001b[39;00m \u001b[38;5;28;43mself\u001b[39;49m\u001b[38;5;241;43m.\u001b[39;49m\u001b[43m_call_impl\u001b[49m\u001b[43m(\u001b[49m\u001b[38;5;241;43m*\u001b[39;49m\u001b[43margs\u001b[49m\u001b[43m,\u001b[49m\u001b[43m \u001b[49m\u001b[38;5;241;43m*\u001b[39;49m\u001b[38;5;241;43m*\u001b[39;49m\u001b[43mkwargs\u001b[49m\u001b[43m)\u001b[49m\n",
      "File \u001b[1;32mc:\\Users\\vaibh\\AppData\\Local\\Programs\\Python\\Python311\\Lib\\site-packages\\torch\\nn\\modules\\module.py:1520\u001b[0m, in \u001b[0;36mModule._call_impl\u001b[1;34m(self, *args, **kwargs)\u001b[0m\n\u001b[0;32m   1515\u001b[0m \u001b[38;5;66;03m# If we don't have any hooks, we want to skip the rest of the logic in\u001b[39;00m\n\u001b[0;32m   1516\u001b[0m \u001b[38;5;66;03m# this function, and just call forward.\u001b[39;00m\n\u001b[0;32m   1517\u001b[0m \u001b[38;5;28;01mif\u001b[39;00m \u001b[38;5;129;01mnot\u001b[39;00m (\u001b[38;5;28mself\u001b[39m\u001b[38;5;241m.\u001b[39m_backward_hooks \u001b[38;5;129;01mor\u001b[39;00m \u001b[38;5;28mself\u001b[39m\u001b[38;5;241m.\u001b[39m_backward_pre_hooks \u001b[38;5;129;01mor\u001b[39;00m \u001b[38;5;28mself\u001b[39m\u001b[38;5;241m.\u001b[39m_forward_hooks \u001b[38;5;129;01mor\u001b[39;00m \u001b[38;5;28mself\u001b[39m\u001b[38;5;241m.\u001b[39m_forward_pre_hooks\n\u001b[0;32m   1518\u001b[0m         \u001b[38;5;129;01mor\u001b[39;00m _global_backward_pre_hooks \u001b[38;5;129;01mor\u001b[39;00m _global_backward_hooks\n\u001b[0;32m   1519\u001b[0m         \u001b[38;5;129;01mor\u001b[39;00m _global_forward_hooks \u001b[38;5;129;01mor\u001b[39;00m _global_forward_pre_hooks):\n\u001b[1;32m-> 1520\u001b[0m     \u001b[38;5;28;01mreturn\u001b[39;00m \u001b[43mforward_call\u001b[49m\u001b[43m(\u001b[49m\u001b[38;5;241;43m*\u001b[39;49m\u001b[43margs\u001b[49m\u001b[43m,\u001b[49m\u001b[43m \u001b[49m\u001b[38;5;241;43m*\u001b[39;49m\u001b[38;5;241;43m*\u001b[39;49m\u001b[43mkwargs\u001b[49m\u001b[43m)\u001b[49m\n\u001b[0;32m   1522\u001b[0m \u001b[38;5;28;01mtry\u001b[39;00m:\n\u001b[0;32m   1523\u001b[0m     result \u001b[38;5;241m=\u001b[39m \u001b[38;5;28;01mNone\u001b[39;00m\n",
      "File \u001b[1;32mc:\\Users\\vaibh\\AppData\\Local\\Programs\\Python\\Python311\\Lib\\site-packages\\torch\\nn\\modules\\rnn.py:844\u001b[0m, in \u001b[0;36mLSTM.forward\u001b[1;34m(self, input, hx)\u001b[0m\n\u001b[0;32m    842\u001b[0m \u001b[38;5;28;01melse\u001b[39;00m:\n\u001b[0;32m    843\u001b[0m     \u001b[38;5;28;01mif\u001b[39;00m \u001b[38;5;28minput\u001b[39m\u001b[38;5;241m.\u001b[39mdim() \u001b[38;5;129;01mnot\u001b[39;00m \u001b[38;5;129;01min\u001b[39;00m (\u001b[38;5;241m2\u001b[39m, \u001b[38;5;241m3\u001b[39m):\n\u001b[1;32m--> 844\u001b[0m         \u001b[38;5;28;01mraise\u001b[39;00m \u001b[38;5;167;01mValueError\u001b[39;00m(\u001b[38;5;124mf\u001b[39m\u001b[38;5;124m\"\u001b[39m\u001b[38;5;124mLSTM: Expected input to be 2D or 3D, got \u001b[39m\u001b[38;5;132;01m{\u001b[39;00m\u001b[38;5;28minput\u001b[39m\u001b[38;5;241m.\u001b[39mdim()\u001b[38;5;132;01m}\u001b[39;00m\u001b[38;5;124mD instead\u001b[39m\u001b[38;5;124m\"\u001b[39m)\n\u001b[0;32m    845\u001b[0m     is_batched \u001b[38;5;241m=\u001b[39m \u001b[38;5;28minput\u001b[39m\u001b[38;5;241m.\u001b[39mdim() \u001b[38;5;241m==\u001b[39m \u001b[38;5;241m3\u001b[39m\n\u001b[0;32m    846\u001b[0m     batch_dim \u001b[38;5;241m=\u001b[39m \u001b[38;5;241m0\u001b[39m \u001b[38;5;28;01mif\u001b[39;00m \u001b[38;5;28mself\u001b[39m\u001b[38;5;241m.\u001b[39mbatch_first \u001b[38;5;28;01melse\u001b[39;00m \u001b[38;5;241m1\u001b[39m\n",
      "\u001b[1;31mValueError\u001b[0m: LSTM: Expected input to be 2D or 3D, got 4D instead"
     ]
    }
   ],
   "source": [
    "def evaluate_custom_log(config, lower, upper):\n",
    "    dataset = EventDataset(config['data']['path'], config['data']['sequence_length'])\n",
    "    \n",
    "    model = create_model(config, dataset.vocab_size)\n",
    "    model.load_state_dict(torch.load(f'{ROOT_DIR}/results/models/{config[\"name\"]}.pth'))\n",
    "    \n",
    "    device = torch.device(\"cuda\" if torch.cuda.is_available() else \"cpu\")\n",
    "    model.to(device)\n",
    "    model.eval()\n",
    "\n",
    "    results = []\n",
    "\n",
    "    with torch.no_grad():\n",
    "        for idx in range(lower, min(upper + 1, len(dataset))):\n",
    "            input_tensor, target_tensor, input_sequence, target_event = dataset[idx]\n",
    "            \n",
    "            print(f\"Original input_tensor shape: {[t.shape for t in input_tensor]}\")\n",
    "            \n",
    "            # Pad the input_tensor sequences\n",
    "            input_tensor_padded = pad_sequence(input_tensor, batch_first=True)\n",
    "            print(f\"Padded input_tensor shape: {input_tensor_padded.shape}\")\n",
    "            \n",
    "            # Add batch dimension\n",
    "            input_tensor_padded = input_tensor_padded.unsqueeze(0).to(device)\n",
    "            print(f\"Final input_tensor shape: {input_tensor_padded.shape}\")\n",
    "            \n",
    "            # Get model prediction\n",
    "            output = model(input_tensor_padded)\n",
    "            print(f\"Model output shape: {output.shape}\")\n",
    "            \n",
    "            # Take the last time step prediction\n",
    "            predicted = output[0, -1].argmax(dim=-1)\n",
    "            print(f\"Predicted shape: {predicted.shape}\")\n",
    "            \n",
    "            # Decode events\n",
    "            input_events = [dataset.decode_event(event) for event in input_tensor]\n",
    "            actual_next_event = dataset.decode_event(target_tensor)\n",
    "            \n",
    "            # Create a tensor with the same length as target_tensor\n",
    "            predicted_tensor = torch.full_like(target_tensor, fill_value=dataset.vocab['<PAD>'])\n",
    "            predicted_tensor[:len(predicted)] = predicted\n",
    "            \n",
    "            predicted_next_event = dataset.decode_event(predicted_tensor.cpu())\n",
    "            \n",
    "            results.append({\n",
    "                'input': input_events,\n",
    "                'actual': actual_next_event,\n",
    "                'predicted': predicted_next_event\n",
    "            })\n",
    "\n",
    "    return results\n",
    "\n",
    "# Usage\n",
    "results = evaluate_custom_log(config, 20, 40)\n",
    "display_evaluation_results(results)"
   ]
  },
  {
   "cell_type": "code",
   "execution_count": null,
   "metadata": {},
   "outputs": [],
   "source": []
  }
 ],
 "metadata": {
  "kernelspec": {
   "display_name": "venv",
   "language": "python",
   "name": "python3"
  },
  "language_info": {
   "codemirror_mode": {
    "name": "ipython",
    "version": 3
   },
   "file_extension": ".py",
   "mimetype": "text/x-python",
   "name": "python",
   "nbconvert_exporter": "python",
   "pygments_lexer": "ipython3",
   "version": "3.11.5"
  }
 },
 "nbformat": 4,
 "nbformat_minor": 2
}
