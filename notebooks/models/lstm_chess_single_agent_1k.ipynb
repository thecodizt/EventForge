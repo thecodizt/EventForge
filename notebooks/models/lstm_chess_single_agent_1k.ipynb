{
 "cells": [
  {
   "cell_type": "code",
   "execution_count": 1,
   "metadata": {},
   "outputs": [
    {
     "data": {
      "text/plain": [
       "'/Users/dev/Research/EventForge/code/notebooks/models'"
      ]
     },
     "execution_count": 1,
     "metadata": {},
     "output_type": "execute_result"
    }
   ],
   "source": [
    "import sys\n",
    "import os\n",
    "import yaml\n",
    "\n",
    "sys.path.append('../../')\n",
    "os.getcwd()"
   ]
  },
  {
   "cell_type": "code",
   "execution_count": 2,
   "metadata": {},
   "outputs": [],
   "source": [
    "YAML_FILE = '../../configs/model_configs/lstm_tic_tac_toe_single_agent.yml'\n",
    "from src.models.lstm_model import create_model"
   ]
  },
  {
   "cell_type": "code",
   "execution_count": 3,
   "metadata": {},
   "outputs": [
    {
     "data": {
      "text/plain": [
       "{'name': 'lstm_tic_tac_toe_single_agent_1k_model',\n",
       " 'model': {'type': 'LSTM', 'hidden_size': 256, 'num_layers': 1},\n",
       " 'training': {'batch_size': 64, 'learning_rate': 0.001, 'num_epochs': 3},\n",
       " 'data': {'game': 'tic-tac-toe',\n",
       "  'sequence_length': 20,\n",
       "  'path': '/games/tic-tac-toe/1k_single_agent.csv'}}"
      ]
     },
     "execution_count": 3,
     "metadata": {},
     "output_type": "execute_result"
    }
   ],
   "source": [
    "with open(YAML_FILE, 'r') as f:\n",
    "    config = yaml.safe_load(f)\n",
    "config"
   ]
  },
  {
   "cell_type": "code",
   "execution_count": 4,
   "metadata": {},
   "outputs": [],
   "source": [
    "import torch\n",
    "import torch.nn as nn\n",
    "import torch.optim as optim\n",
    "from torch.utils.data import DataLoader\n",
    "from src.data.datasets.event_dataset import EventDataset\n",
    "\n",
    "def train_model(config):\n",
    "    # Load data \n",
    "    dataset = EventDataset(config['data']['path'], config['data']['sequence_length'])\n",
    "    dataloader = DataLoader(dataset, batch_size=config['training']['batch_size'], shuffle=True)\n",
    "\n",
    "    # Create model\n",
    "    model = create_model(config, dataset.get_vocab_size())\n",
    "    \n",
    "    # Define loss function and optimizer\n",
    "    criterion = nn.CrossEntropyLoss()\n",
    "    optimizer = optim.Adam(model.parameters(), lr=config['training']['learning_rate'])\n",
    "\n",
    "    # Training loop\n",
    "    device = torch.device(\"cuda\" if torch.cuda.is_available() else \"cpu\")\n",
    "    model.to(device)\n",
    "\n",
    "    for epoch in range(config['training']['num_epochs']):\n",
    "        model.train()\n",
    "        total_loss = 0\n",
    "        for batch_input, batch_target in dataloader:\n",
    "            batch_input, batch_target = batch_input.to(device), batch_target.to(device)\n",
    "            \n",
    "            optimizer.zero_grad()\n",
    "            output = model(batch_input)\n",
    "            loss = criterion(output, batch_target)\n",
    "            loss.backward()\n",
    "            optimizer.step()\n",
    "\n",
    "            total_loss += loss.item()\n",
    "\n",
    "        print(f\"Epoch {epoch+1}/{config['training']['num_epochs']}, Loss: {total_loss/len(dataloader):.4f}\")\n",
    "\n",
    "    # Save the model\n",
    "    torch.save(model.state_dict(), f'../../results/models/{config['name']}.pth')"
   ]
  },
  {
   "cell_type": "code",
   "execution_count": 5,
   "metadata": {},
   "outputs": [
    {
     "name": "stdout",
     "output_type": "stream",
     "text": [
      "Epoch 1/3, Loss: 0.9688\n",
      "Epoch 2/3, Loss: 0.3244\n",
      "Epoch 3/3, Loss: 0.2016\n"
     ]
    }
   ],
   "source": [
    "train_model(config=config)"
   ]
  }
 ],
 "metadata": {
  "kernelspec": {
   "display_name": "venv",
   "language": "python",
   "name": "python3"
  },
  "language_info": {
   "codemirror_mode": {
    "name": "ipython",
    "version": 3
   },
   "file_extension": ".py",
   "mimetype": "text/x-python",
   "name": "python",
   "nbconvert_exporter": "python",
   "pygments_lexer": "ipython3",
   "version": "3.12.0"
  }
 },
 "nbformat": 4,
 "nbformat_minor": 2
}
