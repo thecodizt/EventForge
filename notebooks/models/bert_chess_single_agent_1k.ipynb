{
 "cells": [
  {
   "cell_type": "code",
   "execution_count": 1,
   "metadata": {},
   "outputs": [
    {
     "name": "stderr",
     "output_type": "stream",
     "text": [
      "c:\\Users\\vaibh\\AppData\\Local\\Programs\\Python\\Python311\\Lib\\site-packages\\tqdm\\auto.py:21: TqdmWarning: IProgress not found. Please update jupyter and ipywidgets. See https://ipywidgets.readthedocs.io/en/stable/user_install.html\n",
      "  from .autonotebook import tqdm as notebook_tqdm\n"
     ]
    }
   ],
   "source": [
    "import sys\n",
    "import os\n",
    "import yaml\n",
    "import json\n",
    "import torch\n",
    "import torch.nn as nn\n",
    "import torch.optim as optim\n",
    "from torch.utils.data import DataLoader\n",
    "from transformers import BertTokenizer, BertForSequenceClassification\n",
    "sys.path.append('../../')\n",
    "from constants import ROOT_DIR\n",
    "from src.data.datasets.event_dataset import EventDataset"
   ]
  },
  {
   "cell_type": "code",
   "execution_count": 2,
   "metadata": {},
   "outputs": [],
   "source": [
    "sys.path.append('../../')\n",
    "from constants import ROOT_DIR"
   ]
  },
  {
   "cell_type": "code",
   "execution_count": 3,
   "metadata": {},
   "outputs": [],
   "source": [
    "YAML_FILE = '../../configs/model_configs/bert_tic_tac_toe_single_agent.yml'\n",
    "from src.models.bert_model import create_model, get_tokenizer"
   ]
  },
  {
   "cell_type": "code",
   "execution_count": 4,
   "metadata": {},
   "outputs": [
    {
     "name": "stdout",
     "output_type": "stream",
     "text": [
      "{'name': 'bert_tic_tac_toe_single_agent_1k_model', 'model': {'type': 'BERT', 'pretrained_model': 'bert-base-uncased', 'hidden_size': 768, 'num_layers': 12}, 'training': {'batch_size': 16, 'learning_rate': 0.001, 'num_epochs': 15, 'warmup_steps': 500}, 'data': {'game': 'tic-tac-toe', 'sequence_length': 20, 'max_event_length': 10, 'path': '/games/tic-tac-toe/1k_single_agent.csv'}, 'tokenizer': {'max_length': 128, 'padding': 'max_length', 'truncation': True}}\n"
     ]
    }
   ],
   "source": [
    "with open(YAML_FILE, 'r') as f:\n",
    "    config = yaml.safe_load(f)\n",
    "print(config)"
   ]
  },
  {
   "cell_type": "code",
   "execution_count": 5,
   "metadata": {},
   "outputs": [],
   "source": [
    "def collate_fn(batch):\n",
    "    batch_input, batch_target, sequences, targets = zip(*batch)\n",
    "    \n",
    "    # Convert batch_input to a list of token IDs\n",
    "    batch_input = [torch.tensor([token.item() for seq in input_batch for token in seq]) for input_batch in batch_input]\n",
    "    \n",
    "    # Pad sequences\n",
    "    batch_input = nn.utils.rnn.pad_sequence(batch_input, batch_first=True, padding_value=0)\n",
    "    \n",
    "    # Create attention mask\n",
    "    attention_mask = (batch_input != 0).float()\n",
    "    \n",
    "    # For batch_target, we'll just take the last token of each sequence\n",
    "    batch_target = torch.tensor([target[-1].item() for target in batch_target])\n",
    "    \n",
    "    return batch_input, attention_mask, batch_target, sequences, targets\n",
    "\n",
    "def train_model(config):\n",
    "    dataset = EventDataset(config['data']['path'], config['data']['sequence_length'])\n",
    "    dataloader = DataLoader(dataset, batch_size=config['training']['batch_size'], shuffle=True, collate_fn=collate_fn)\n",
    "\n",
    "    model = create_model(config, dataset.vocab_size)\n",
    "    criterion = nn.CrossEntropyLoss()\n",
    "    optimizer = optim.AdamW(model.parameters(), lr=float(config['training']['learning_rate']))\n",
    "\n",
    "    device = torch.device(\"cuda\" if torch.cuda.is_available() else \"cpu\")\n",
    "    model.to(device)\n",
    "\n",
    "    print(f\"Vocabulary size: {dataset.vocab_size}\")\n",
    "    print(f\"Device: {device}\")\n",
    "\n",
    "    for epoch in range(config['training']['num_epochs']):\n",
    "        model.train()\n",
    "        total_loss = 0\n",
    "        for batch_idx, (batch_input, attention_mask, batch_target, _, _) in enumerate(dataloader):\n",
    "            batch_input, attention_mask, batch_target = batch_input.to(device), attention_mask.to(device), batch_target.to(device)\n",
    "            \n",
    "            # Pad input sequences to maximum length\n",
    "            batch_input = nn.utils.rnn.pad_sequence(batch_input, batch_first=True, padding_value=0)\n",
    "            attention_mask = nn.utils.rnn.pad_sequence(attention_mask, batch_first=True, padding_value=0)\n",
    "            \n",
    "            optimizer.zero_grad()\n",
    "            logits = model(input_ids=batch_input, attention_mask=attention_mask)\n",
    "            \n",
    "            loss = criterion(logits, batch_target)\n",
    "            loss.backward()\n",
    "            optimizer.step()\n",
    "\n",
    "            total_loss += loss.item()\n",
    "\n",
    "        print(f\"Epoch {epoch+1}/{config['training']['num_epochs']}, Average Loss: {total_loss/len(dataloader):.4f}\")\n",
    "\n",
    "    torch.save(model.state_dict(), f'../../results/models/{config[\"name\"]}.pth')\n",
    "    print(f\"\\nModel saved to ../../results/models/{config['name']}.pth\")\n",
    "\n",
    "def evaluate_model(config):\n",
    "    dataset = EventDataset(config['data']['path'], config['data']['sequence_length'])\n",
    "    dataloader = DataLoader(dataset, batch_size=config['training']['batch_size'], shuffle=False, collate_fn=collate_fn)\n",
    "\n",
    "    model = create_model(config, dataset.vocab_size)\n",
    "    model.load_state_dict(torch.load(f'../../results/models/{config[\"name\"]}.pth'))\n",
    "    \n",
    "    device = torch.device(\"cuda\" if torch.cuda.is_available() else \"cpu\")\n",
    "    model.to(device)\n",
    "    model.eval()\n",
    "\n",
    "    correct = 0\n",
    "    total = 0\n",
    "\n",
    "    with torch.no_grad():\n",
    "        for batch_input, attention_mask, batch_target, _, _ in dataloader:\n",
    "            batch_input, attention_mask, batch_target = batch_input.to(device), attention_mask.to(device), batch_target.to(device)\n",
    "            \n",
    "            logits = model(input_ids=batch_input, attention_mask=attention_mask)\n",
    "            \n",
    "            _, predicted = torch.max(logits, 1)\n",
    "            \n",
    "            total += batch_target.size(0)\n",
    "            correct += (predicted == batch_target).sum().item()\n",
    "\n",
    "    accuracy = 100 * correct / total\n",
    "    print(f'Accuracy on the test set: {accuracy:.2f}%')"
   ]
  },
  {
   "cell_type": "code",
   "execution_count": 6,
   "metadata": {},
   "outputs": [
    {
     "name": "stdout",
     "output_type": "stream",
     "text": [
      "Vocabulary size: 20\n",
      "Device: cuda\n"
     ]
    },
    {
     "name": "stderr",
     "output_type": "stream",
     "text": [
      "d:\\Research\\EventForge\\notebooks\\models\\../..\\src\\data\\datasets\\event_dataset.py:40: UserWarning: To copy construct from a tensor, it is recommended to use sourceTensor.clone().detach() or sourceTensor.clone().detach().requires_grad_(True), rather than torch.tensor(sourceTensor).\n",
      "  input_tensor = [torch.tensor(seq).clone().detach() for seq in input_seq]\n"
     ]
    },
    {
     "name": "stdout",
     "output_type": "stream",
     "text": [
      "Epoch 1/15, Average Loss: 2.6884\n",
      "Epoch 2/15, Average Loss: 2.6326\n",
      "Epoch 3/15, Average Loss: 2.6408\n",
      "Epoch 4/15, Average Loss: 2.6388\n",
      "Epoch 5/15, Average Loss: 2.6345\n",
      "Epoch 6/15, Average Loss: 2.6118\n",
      "Epoch 7/15, Average Loss: 2.5509\n",
      "Epoch 8/15, Average Loss: 2.5128\n",
      "Epoch 9/15, Average Loss: 2.5097\n",
      "Epoch 10/15, Average Loss: 2.5033\n",
      "Epoch 11/15, Average Loss: 2.5033\n",
      "Epoch 12/15, Average Loss: 2.5008\n",
      "Epoch 13/15, Average Loss: 2.5003\n",
      "Epoch 14/15, Average Loss: 2.4979\n",
      "Epoch 15/15, Average Loss: 2.4998\n",
      "\n",
      "Model saved to ../../results/models/bert_tic_tac_toe_single_agent_1k_model.pth\n"
     ]
    }
   ],
   "source": [
    "train_model(config=config)"
   ]
  },
  {
   "cell_type": "code",
   "execution_count": 7,
   "metadata": {},
   "outputs": [
    {
     "name": "stderr",
     "output_type": "stream",
     "text": [
      "d:\\Research\\EventForge\\notebooks\\models\\../..\\src\\data\\datasets\\event_dataset.py:40: UserWarning: To copy construct from a tensor, it is recommended to use sourceTensor.clone().detach() or sourceTensor.clone().detach().requires_grad_(True), rather than torch.tensor(sourceTensor).\n",
      "  input_tensor = [torch.tensor(seq).clone().detach() for seq in input_seq]\n"
     ]
    },
    {
     "name": "stdout",
     "output_type": "stream",
     "text": [
      "Accuracy on the test set: 8.87%\n"
     ]
    }
   ],
   "source": [
    "evaluate_model(config=config)"
   ]
  }
 ],
 "metadata": {
  "kernelspec": {
   "display_name": "Python 3",
   "language": "python",
   "name": "python3"
  },
  "language_info": {
   "codemirror_mode": {
    "name": "ipython",
    "version": 3
   },
   "file_extension": ".py",
   "mimetype": "text/x-python",
   "name": "python",
   "nbconvert_exporter": "python",
   "pygments_lexer": "ipython3",
   "version": "3.11.5"
  }
 },
 "nbformat": 4,
 "nbformat_minor": 2
}
