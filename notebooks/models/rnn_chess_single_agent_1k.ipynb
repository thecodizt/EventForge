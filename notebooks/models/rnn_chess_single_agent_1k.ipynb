{
 "cells": [
  {
   "cell_type": "code",
   "execution_count": 1,
   "metadata": {},
   "outputs": [],
   "source": [
    "import sys\n",
    "import os\n",
    "import yaml\n",
    "import json\n",
    "\n",
    "sys.path.append('../../')\n",
    "\n",
    "from constants import ROOT_DIR\n"
   ]
  },
  {
   "cell_type": "code",
   "execution_count": 2,
   "metadata": {},
   "outputs": [],
   "source": [
    "YAML_FILE = '../../configs/model_configs/rnn_tic_tac_toe_single_agent.yml'\n",
    "from src.models.rnn_model import create_model"
   ]
  },
  {
   "cell_type": "code",
   "execution_count": 3,
   "metadata": {},
   "outputs": [
    {
     "name": "stdout",
     "output_type": "stream",
     "text": [
      "{'name': 'rnn_tic_tac_toe_single_agent_1k_model', 'model': {'type': 'RNN', 'embedding_dim': 128, 'hidden_size': 100, 'num_layers': 2}, 'training': {'batch_size': 64, 'learning_rate': 0.001, 'num_epochs': 5}, 'data': {'game': 'tic-tac-toe', 'sequence_length': 20, 'max_event_length': 3, 'path': '/games/tic-tac-toe/1k_single_agent.csv'}}\n"
     ]
    }
   ],
   "source": [
    "with open(YAML_FILE, 'r') as f:\n",
    "    config = yaml.safe_load(f)\n",
    "print(config)"
   ]
  },
  {
   "cell_type": "code",
   "execution_count": 4,
   "metadata": {},
   "outputs": [],
   "source": [
    "import torch\n",
    "import torch.nn as nn\n",
    "import torch.optim as optim\n",
    "from torch.utils.data import DataLoader\n",
    "from torch.nn.utils.rnn import pad_sequence\n",
    "from src.data.datasets.event_dataset import EventDataset"
   ]
  },
  {
   "cell_type": "code",
   "execution_count": 5,
   "metadata": {},
   "outputs": [],
   "source": [
    "def collate_fn(batch):\n",
    "    batch_input, batch_target, sequences, targets = zip(*batch)\n",
    "    batch_input = [pad_sequence(seq, batch_first=True, padding_value=0) for seq in batch_input]\n",
    "    batch_input = pad_sequence(batch_input, batch_first=True, padding_value=0)\n",
    "    batch_target = torch.stack(batch_target)\n",
    "    return batch_input, batch_target, sequences, targets\n",
    "\n",
    "def train_model(config):\n",
    "    dataset = EventDataset(config['data']['path'], config['data']['sequence_length'])\n",
    "    dataloader = DataLoader(dataset, batch_size=config['training']['batch_size'], shuffle=True, collate_fn=collate_fn)\n",
    "    model = create_model(config, dataset.vocab_size)\n",
    "    criterion = nn.CrossEntropyLoss(ignore_index=0)\n",
    "    optimizer = optim.Adam(model.parameters(), lr=config['training']['learning_rate'])\n",
    "    device = torch.device(\"cuda\" if torch.cuda.is_available() else \"cpu\")\n",
    "    model.to(device)\n",
    "    for epoch in range(config['training']['num_epochs']):\n",
    "        model.train()\n",
    "        total_loss = 0\n",
    "        for batch_idx, (batch_input, batch_target, _, _) in enumerate(dataloader):\n",
    "            batch_input, batch_target = batch_input.to(device), batch_target.to(device)\n",
    "            optimizer.zero_grad()\n",
    "            output = model(batch_input)\n",
    "            batch_target = batch_target[:, 0]\n",
    "            loss = criterion(output, batch_target)\n",
    "            loss.backward()\n",
    "            optimizer.step()\n",
    "            total_loss += loss.item()\n",
    "        print(f\"Epoch {epoch+1}/{config['training']['num_epochs']}, Average Loss: {total_loss/len(dataloader):.4f}\")\n",
    "    torch.save(model.state_dict(), f'../../results/models/{config[\"name\"]}.pth')\n",
    "    print(f\"\\nModel saved to ../../results/models/{config['name']}.pth\")\n",
    "\n",
    "def evaluate_model(config):\n",
    "    dataset = EventDataset(config['data']['path'], config['data']['sequence_length'])\n",
    "    dataloader = DataLoader(dataset, batch_size=config['training']['batch_size'], shuffle=False, collate_fn=collate_fn)\n",
    "    model = create_model(config, dataset.vocab_size)\n",
    "    model.load_state_dict(torch.load(f'../../results/models/{config[\"name\"]}.pth'))\n",
    "    device = torch.device(\"cuda\" if torch.cuda.is_available() else \"cpu\")\n",
    "    model.to(device)\n",
    "    model.eval()\n",
    "    correct = 0\n",
    "    total = 0\n",
    "    with torch.no_grad():\n",
    "        for batch_input, batch_target, _, _ in dataloader:\n",
    "            batch_input, batch_target = batch_input.to(device), batch_target.to(device)\n",
    "            outputs = model(batch_input)\n",
    "            batch_target = batch_target[:, 0]\n",
    "            _, predicted = torch.max(outputs, 1)\n",
    "            total += batch_target.size(0)\n",
    "            correct += (predicted == batch_target).sum().item()\n",
    "    accuracy = 100 * correct / total\n",
    "    print(f'Accuracy on the test set: {accuracy:.2f}%')"
   ]
  },
  {
   "cell_type": "code",
   "execution_count": 6,
   "metadata": {},
   "outputs": [
    {
     "name": "stderr",
     "output_type": "stream",
     "text": [
      "c:\\Users\\vaibh\\AppData\\Local\\Programs\\Python\\Python311\\Lib\\site-packages\\tqdm\\auto.py:21: TqdmWarning: IProgress not found. Please update jupyter and ipywidgets. See https://ipywidgets.readthedocs.io/en/stable/user_install.html\n",
      "  from .autonotebook import tqdm as notebook_tqdm\n",
      "d:\\Research\\EventForge\\notebooks\\models\\../..\\src\\data\\datasets\\event_dataset.py:34: UserWarning: To copy construct from a tensor, it is recommended to use sourceTensor.clone().detach() or sourceTensor.clone().detach().requires_grad_(True), rather than torch.tensor(sourceTensor).\n",
      "  input_tensor = [torch.tensor(seq).clone().detach() for seq in input_seq]\n"
     ]
    },
    {
     "name": "stdout",
     "output_type": "stream",
     "text": [
      "Epoch 1/5, Average Loss: 0.3873\n",
      "Epoch 2/5, Average Loss: 0.1953\n",
      "Epoch 3/5, Average Loss: 0.1741\n",
      "Epoch 4/5, Average Loss: 0.1646\n",
      "Epoch 5/5, Average Loss: 0.1596\n",
      "\n",
      "Model saved to ../../results/models/rnn_tic_tac_toe_single_agent_1k_model.pth\n"
     ]
    }
   ],
   "source": [
    "train_model(config=config)"
   ]
  },
  {
   "cell_type": "code",
   "execution_count": 7,
   "metadata": {},
   "outputs": [
    {
     "name": "stderr",
     "output_type": "stream",
     "text": [
      "d:\\Research\\EventForge\\notebooks\\models\\../..\\src\\data\\datasets\\event_dataset.py:34: UserWarning: To copy construct from a tensor, it is recommended to use sourceTensor.clone().detach() or sourceTensor.clone().detach().requires_grad_(True), rather than torch.tensor(sourceTensor).\n",
      "  input_tensor = [torch.tensor(seq).clone().detach() for seq in input_seq]\n"
     ]
    },
    {
     "name": "stdout",
     "output_type": "stream",
     "text": [
      "Accuracy on the test set: 93.56%\n"
     ]
    }
   ],
   "source": [
    "evaluate_model(config=config)"
   ]
  }
 ],
 "metadata": {
  "kernelspec": {
   "display_name": "venv",
   "language": "python",
   "name": "python3"
  },
  "language_info": {
   "codemirror_mode": {
    "name": "ipython",
    "version": 3
   },
   "file_extension": ".py",
   "mimetype": "text/x-python",
   "name": "python",
   "nbconvert_exporter": "python",
   "pygments_lexer": "ipython3",
   "version": "3.11.5"
  }
 },
 "nbformat": 4,
 "nbformat_minor": 2
}
