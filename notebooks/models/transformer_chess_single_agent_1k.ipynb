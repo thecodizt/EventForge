{
 "cells": [
  {
   "cell_type": "code",
   "execution_count": 8,
   "metadata": {},
   "outputs": [],
   "source": [
    "import sys\n",
    "import os\n",
    "import yaml\n",
    "import json\n",
    "\n",
    "sys.path.append('../../')\n",
    "\n",
    "from constants import ROOT_DIR\n"
   ]
  },
  {
   "cell_type": "code",
   "execution_count": 9,
   "metadata": {},
   "outputs": [],
   "source": [
    "YAML_FILE = '../../configs/model_configs/transformer_tic_tac_toe_single_agent.yml'\n",
    "from src.models.trasnformer_model import create_model"
   ]
  },
  {
   "cell_type": "code",
   "execution_count": 10,
   "metadata": {},
   "outputs": [
    {
     "name": "stdout",
     "output_type": "stream",
     "text": [
      "{'name': 'transformer_tic_tac_toe_single_agent_1k_model', 'model': {'type': 'Transformer', 'embedding_dim': 128, 'nhead': 4, 'num_encoder_layers': 3}, 'training': {'batch_size': 64, 'learning_rate': 0.0001, 'num_epochs': 5}, 'data': {'game': 'tic-tac-toe', 'sequence_length': 20, 'max_event_length': 10, 'path': '/games/tic-tac-toe/1k_single_agent.csv'}}\n"
     ]
    }
   ],
   "source": [
    "with open(YAML_FILE, 'r') as f:\n",
    "    config = yaml.safe_load(f)\n",
    "print(config)"
   ]
  },
  {
   "cell_type": "code",
   "execution_count": 11,
   "metadata": {},
   "outputs": [],
   "source": [
    "import torch\n",
    "import torch.nn as nn\n",
    "import torch.optim as optim\n",
    "from torch.utils.data import DataLoader\n",
    "from torch.nn.utils.rnn import pad_sequence\n",
    "from src.data.datasets.event_dataset import EventDataset"
   ]
  },
  {
   "cell_type": "code",
   "execution_count": 12,
   "metadata": {},
   "outputs": [],
   "source": [
    "def collate_fn(batch):\n",
    "    batch_input, batch_target, sequences, targets = zip(*batch)\n",
    "    \n",
    "    # Pad batch_target to the maximum length in the batch\n",
    "    max_length = max(len(target) for target in batch_target)\n",
    "    batch_target = [torch.nn.functional.pad(target, (0, max_length - len(target)), value=0) for target in batch_target]\n",
    "    \n",
    "    batch_input = [item for sublist in batch_input for item in sublist]\n",
    "    batch_input = torch.nn.utils.rnn.pad_sequence(batch_input, batch_first=True, padding_value=0)\n",
    "    batch_target = torch.stack(batch_target)\n",
    "    \n",
    "    return batch_input, batch_target, sequences, targets\n",
    "\n",
    "def train_model(config):\n",
    "    dataset = EventDataset(config['data']['path'], config['data']['sequence_length'])\n",
    "    dataloader = DataLoader(dataset, batch_size=config['training']['batch_size'], shuffle=True, collate_fn=collate_fn)\n",
    "\n",
    "    model = create_model(config, dataset.vocab_size)\n",
    "    criterion = nn.CrossEntropyLoss(ignore_index=0)  # Ignore padding index\n",
    "    optimizer = optim.Adam(model.parameters(), lr=config['training']['learning_rate'])\n",
    "\n",
    "    device = torch.device(\"cuda\" if torch.cuda.is_available() else \"cpu\")\n",
    "    model.to(device)\n",
    "\n",
    "    print(f\"Vocabulary size: {dataset.vocab_size}\")\n",
    "    print(f\"Device: {device}\")\n",
    "\n",
    "    for epoch in range(config['training']['num_epochs']):\n",
    "        model.train()\n",
    "        total_loss = 0\n",
    "        for batch_idx, (batch_input, batch_target, _, _) in enumerate(dataloader):\n",
    "            # print(f\"\\nBatch {batch_idx + 1}:\")\n",
    "            # print(f\"Input shape: {batch_input.shape}\")\n",
    "            # print(f\"Target shape: {batch_target.shape}\")\n",
    "\n",
    "            batch_input, batch_target = batch_input.to(device), batch_target.to(device)\n",
    "            \n",
    "            optimizer.zero_grad()\n",
    "            output = model(batch_input)\n",
    "            # print(f\"Raw output shape: {output.shape}\")\n",
    "            \n",
    "            # Reshape output and target tensors\n",
    "            batch_size, seq_len, vocab_size = output.shape\n",
    "            output = output.contiguous().view(-1, vocab_size)\n",
    "            batch_target = batch_target.view(-1)\n",
    "            \n",
    "            # print(f\"Reshaped output shape: {output.shape}\")\n",
    "            # print(f\"Reshaped target shape: {batch_target.shape}\")\n",
    "            \n",
    "            # Ensure output and target have the same batch size\n",
    "            min_length = min(output.size(0), batch_target.size(0))\n",
    "            output = output[:min_length]\n",
    "            batch_target = batch_target[:min_length]\n",
    "            \n",
    "            # print(f\"Final output shape: {output.shape}\")\n",
    "            # print(f\"Final target shape: {batch_target.shape}\")\n",
    "\n",
    "            try:\n",
    "                loss = criterion(output, batch_target)\n",
    "                # print(f\"Loss: {loss.item()}\")\n",
    "\n",
    "                loss.backward()\n",
    "                optimizer.step()\n",
    "\n",
    "                total_loss += loss.item()\n",
    "            except RuntimeError as e:\n",
    "                print(f\"Runtime error during training: {e}\")\n",
    "                continue\n",
    "\n",
    "            # if batch_idx % 10 == 0:\n",
    "            #     print(f\"Epoch {epoch+1}, Batch {batch_idx+1}/{len(dataloader)}, Loss: {loss.item():.4f}\")\n",
    "\n",
    "        print(f\"Epoch {epoch+1}/{config['training']['num_epochs']}, Average Loss: {total_loss/len(dataloader):.4f}\")\n",
    "\n",
    "    torch.save(model.state_dict(), f'../../results/models/{config[\"name\"]}.pth')\n",
    "    print(f\"\\nModel saved to ../../results/models/{config['name']}.pth\")\n",
    "     \n",
    "def evaluate_model(config):\n",
    "    dataset = EventDataset(config['data']['path'], config['data']['sequence_length'])\n",
    "    dataloader = DataLoader(dataset, batch_size=config['training']['batch_size'], shuffle=False, collate_fn=collate_fn)\n",
    "\n",
    "    model = create_model(config, dataset.vocab_size)\n",
    "    model.load_state_dict(torch.load(f'../../results/models/{config[\"name\"]}.pth'))\n",
    "    \n",
    "    device = torch.device(\"cuda\" if torch.cuda.is_available() else \"cpu\")\n",
    "    model.to(device)\n",
    "    model.eval()\n",
    "\n",
    "    correct = 0\n",
    "    total = 0\n",
    "\n",
    "    with torch.no_grad():\n",
    "        for batch_input, batch_target, _, _ in dataloader:\n",
    "            batch_input, batch_target = batch_input.to(device), batch_target.to(device)\n",
    "            \n",
    "            outputs = model(batch_input)\n",
    "            \n",
    "            # Reshape outputs and target\n",
    "            batch_size, seq_len, vocab_size = outputs.shape\n",
    "            outputs = outputs.contiguous().view(-1, vocab_size)\n",
    "            batch_target = batch_target.contiguous().view(-1)\n",
    "            \n",
    "            # Ensure outputs and target have the same batch size\n",
    "            min_length = min(outputs.size(0), batch_target.size(0))\n",
    "            outputs = outputs[:min_length]\n",
    "            batch_target = batch_target[:min_length]\n",
    "            \n",
    "            _, predicted = torch.max(outputs, 1)\n",
    "            \n",
    "            # Ignore padded elements (assuming 0 is the padding index)\n",
    "            mask = batch_target != 0\n",
    "            predicted = predicted[mask]\n",
    "            batch_target = batch_target[mask]\n",
    "            \n",
    "            total += batch_target.size(0)\n",
    "            correct += (predicted == batch_target).sum().item()\n",
    "\n",
    "    accuracy = 100 * correct / total\n",
    "    print(f'Accuracy on the test set: {accuracy:.2f}%')"
   ]
  },
  {
   "cell_type": "code",
   "execution_count": 13,
   "metadata": {},
   "outputs": [
    {
     "name": "stderr",
     "output_type": "stream",
     "text": [
      "/home/dev/Projects/EventForge/venv/lib/python3.12/site-packages/torch/nn/modules/transformer.py:306: UserWarning: enable_nested_tensor is True, but self.use_nested_tensor is False because encoder_layer.self_attn.batch_first was not True(use batch_first for better inference performance)\n",
      "  warnings.warn(f\"enable_nested_tensor is True, but self.use_nested_tensor is False because {why_not_sparsity_fast_path}\")\n",
      "/home/dev/Projects/EventForge/notebooks/models/../../src/data/datasets/event_dataset.py:40: UserWarning: To copy construct from a tensor, it is recommended to use sourceTensor.clone().detach() or sourceTensor.clone().detach().requires_grad_(True), rather than torch.tensor(sourceTensor).\n",
      "  input_tensor = [torch.tensor(seq).clone().detach() for seq in input_seq]\n"
     ]
    },
    {
     "name": "stdout",
     "output_type": "stream",
     "text": [
      "Vocabulary size: 20\n",
      "Device: cuda\n",
      "Epoch 1/5, Average Loss: 2.4491\n",
      "Epoch 2/5, Average Loss: 2.4308\n",
      "Epoch 3/5, Average Loss: 2.4285\n",
      "Epoch 4/5, Average Loss: 2.4289\n",
      "Epoch 5/5, Average Loss: 2.4284\n",
      "\n",
      "Model saved to ../../results/models/transformer_tic_tac_toe_single_agent_1k_model.pth\n"
     ]
    }
   ],
   "source": [
    "train_model(config=config)"
   ]
  },
  {
   "cell_type": "code",
   "execution_count": 14,
   "metadata": {},
   "outputs": [
    {
     "name": "stderr",
     "output_type": "stream",
     "text": [
      "/home/dev/Projects/EventForge/venv/lib/python3.12/site-packages/torch/nn/modules/transformer.py:306: UserWarning: enable_nested_tensor is True, but self.use_nested_tensor is False because encoder_layer.self_attn.batch_first was not True(use batch_first for better inference performance)\n",
      "  warnings.warn(f\"enable_nested_tensor is True, but self.use_nested_tensor is False because {why_not_sparsity_fast_path}\")\n",
      "/home/dev/Projects/EventForge/notebooks/models/../../src/data/datasets/event_dataset.py:40: UserWarning: To copy construct from a tensor, it is recommended to use sourceTensor.clone().detach() or sourceTensor.clone().detach().requires_grad_(True), rather than torch.tensor(sourceTensor).\n",
      "  input_tensor = [torch.tensor(seq).clone().detach() for seq in input_seq]\n"
     ]
    },
    {
     "name": "stdout",
     "output_type": "stream",
     "text": [
      "Accuracy on the test set: 20.87%\n"
     ]
    }
   ],
   "source": [
    "evaluate_model(config=config)"
   ]
  },
  {
   "cell_type": "code",
   "execution_count": null,
   "metadata": {},
   "outputs": [],
   "source": []
  }
 ],
 "metadata": {
  "kernelspec": {
   "display_name": "venv",
   "language": "python",
   "name": "python3"
  },
  "language_info": {
   "codemirror_mode": {
    "name": "ipython",
    "version": 3
   },
   "file_extension": ".py",
   "mimetype": "text/x-python",
   "name": "python",
   "nbconvert_exporter": "python",
   "pygments_lexer": "ipython3",
   "version": "3.12.3"
  }
 },
 "nbformat": 4,
 "nbformat_minor": 2
}
